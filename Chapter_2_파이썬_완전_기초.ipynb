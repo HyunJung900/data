{
  "nbformat": 4,
  "nbformat_minor": 0,
  "metadata": {
    "colab": {
      "provenance": [],
      "toc_visible": true,
      "authorship_tag": "ABX9TyM2L/PPXoP+2GY92vf+gqzn",
      "include_colab_link": true
    },
    "kernelspec": {
      "name": "python3",
      "display_name": "Python 3"
    },
    "language_info": {
      "name": "python"
    }
  },
  "cells": [
    {
      "cell_type": "markdown",
      "metadata": {
        "id": "view-in-github",
        "colab_type": "text"
      },
      "source": [
        "<a href=\"https://colab.research.google.com/github/HyunJung900/data/blob/master/Chapter_2_%ED%8C%8C%EC%9D%B4%EC%8D%AC_%EC%99%84%EC%A0%84_%EA%B8%B0%EC%B4%88.ipynb\" target=\"_parent\"><img src=\"https://colab.research.google.com/assets/colab-badge.svg\" alt=\"Open In Colab\"/></a>"
      ]
    },
    {
      "cell_type": "markdown",
      "source": [
        "# 1) 파이썬 Print 사용법\n",
        "## 다양한 Print 출력\n",
        "*   Separator 사용\n",
        "*   End 사용\n",
        "*   Python Format 사용\n",
        "\n"
      ],
      "metadata": {
        "id": "uJeq8F5VOXFg"
      }
    },
    {
      "cell_type": "markdown",
      "source": [
        "## 파이썬 Print 사용법(1-1) : 이것저것 출력해봐요."
      ],
      "metadata": {
        "id": "uvJKGs44PieB"
      }
    },
    {
      "cell_type": "code",
      "execution_count": null,
      "metadata": {
        "id": "oIxAuRI4d10R"
      },
      "outputs": [],
      "source": [
        "# 인수가 없어, 출력이 되지 않음\n",
        "print()"
      ]
    },
    {
      "cell_type": "markdown",
      "source": [
        "기본 출력"
      ],
      "metadata": {
        "id": "CQMKUiBpT731"
      }
    },
    {
      "cell_type": "code",
      "source": [
        "print('Python Satrt!')        # 가장 많이 사용\n",
        "print(\"Python Start!\")\n",
        "print('''Python Start!''')\n",
        "print(\"\"\"Python Start!\"\"\")"
      ],
      "metadata": {
        "colab": {
          "base_uri": "https://localhost:8080/"
        },
        "id": "-b7vOcKzPz83",
        "outputId": "039c6f67-8b61-45cb-fd77-1de53d258b40"
      },
      "execution_count": null,
      "outputs": [
        {
          "output_type": "stream",
          "name": "stdout",
          "text": [
            "Python Satrt!\n",
            "Python Start!\n",
            "Python Start!\n",
            "Python Start!\n"
          ]
        }
      ]
    },
    {
      "cell_type": "markdown",
      "source": [
        "seperator 옵션"
      ],
      "metadata": {
        "id": "STGTp623UID-"
      }
    },
    {
      "cell_type": "code",
      "source": [
        "print('P','y','t','h','o','n', sep='')      # 각 문자 사이를 어떤 구분자로 구분할지"
      ],
      "metadata": {
        "colab": {
          "base_uri": "https://localhost:8080/"
        },
        "id": "MhcqIUZ2P-3-",
        "outputId": "56dafbed-e7a9-4edd-e5d7-a2896d71e25c"
      },
      "execution_count": null,
      "outputs": [
        {
          "output_type": "stream",
          "name": "stdout",
          "text": [
            "Python\n"
          ]
        }
      ]
    },
    {
      "cell_type": "code",
      "source": [
        "print('010','7777','1234', sep='-')"
      ],
      "metadata": {
        "colab": {
          "base_uri": "https://localhost:8080/"
        },
        "id": "cUBlXEcAQWpL",
        "outputId": "1fad35c9-47b3-4cb8-de61-397da7d93e1a"
      },
      "execution_count": null,
      "outputs": [
        {
          "output_type": "stream",
          "name": "stdout",
          "text": [
            "010-7777-1234\n"
          ]
        }
      ]
    },
    {
      "cell_type": "markdown",
      "source": [
        "## 파이썬 Print 사용법(1-2)"
      ],
      "metadata": {
        "id": "Z2HcktoWQ1m4"
      }
    },
    {
      "cell_type": "markdown",
      "source": [
        "end 옵션"
      ],
      "metadata": {
        "id": "wQ5Jid7PUL6k"
      }
    },
    {
      "cell_type": "code",
      "source": [
        "print('Welcome to', end=' ')        # print 간 구분이 가능하게, print문의 마지막을 어떻게 처리할지\n",
        "print('IT News', end='')"
      ],
      "metadata": {
        "colab": {
          "base_uri": "https://localhost:8080/"
        },
        "id": "D40lkgYLQn8W",
        "outputId": "e805455c-6c19-4868-bf76-43687c075a8d"
      },
      "execution_count": null,
      "outputs": [
        {
          "output_type": "stream",
          "name": "stdout",
          "text": [
            "Welcome to IT News"
          ]
        }
      ]
    },
    {
      "cell_type": "markdown",
      "source": [
        "file 옵션"
      ],
      "metadata": {
        "id": "E2OIJ_nuUSn-"
      }
    },
    {
      "cell_type": "code",
      "source": [
        "import sys            # import는 예약어\n",
        "print('Learn Python', file=sys.stdout)"
      ],
      "metadata": {
        "colab": {
          "base_uri": "https://localhost:8080/"
        },
        "id": "YFrLGEphRBPR",
        "outputId": "da680153-1276-426e-97ff-05c3767c69f2"
      },
      "execution_count": null,
      "outputs": [
        {
          "output_type": "stream",
          "name": "stdout",
          "text": [
            "Learn Python\n"
          ]
        }
      ]
    },
    {
      "cell_type": "markdown",
      "source": [
        "format 사용 (d, s, f)\n",
        "* d : 정수형\n",
        "* s : 문자형\n",
        "* f : 실수형"
      ],
      "metadata": {
        "id": "k2WyUfFqUWhe"
      }
    },
    {
      "cell_type": "code",
      "source": [
        "print('%s %s' %('one', 'two'))"
      ],
      "metadata": {
        "colab": {
          "base_uri": "https://localhost:8080/"
        },
        "id": "JkfaPBqTRqsX",
        "outputId": "2e1e657c-761a-4cd1-b042-1f77558aa603"
      },
      "execution_count": null,
      "outputs": [
        {
          "output_type": "stream",
          "name": "stdout",
          "text": [
            "one two\n"
          ]
        }
      ]
    },
    {
      "cell_type": "code",
      "source": [
        "print('{} {}'.format('one','two'))"
      ],
      "metadata": {
        "colab": {
          "base_uri": "https://localhost:8080/"
        },
        "id": "E3Cz77jsSWhq",
        "outputId": "aceac9a2-f800-4601-85cd-ff77b8d646e3"
      },
      "execution_count": null,
      "outputs": [
        {
          "output_type": "stream",
          "name": "stdout",
          "text": [
            "one two\n"
          ]
        }
      ]
    },
    {
      "cell_type": "code",
      "source": [
        "print('{1} {0}'.format('one','two'))        # 순서 지정 가능"
      ],
      "metadata": {
        "colab": {
          "base_uri": "https://localhost:8080/"
        },
        "id": "UAHbJxFlSdiN",
        "outputId": "ded84cc8-9edc-4aad-e487-2d7c5c218b10"
      },
      "execution_count": null,
      "outputs": [
        {
          "output_type": "stream",
          "name": "stdout",
          "text": [
            "two one\n"
          ]
        }
      ]
    },
    {
      "cell_type": "markdown",
      "source": [
        "## 파이썬 Print 사용법(1-3)"
      ],
      "metadata": {
        "id": "u0aK9pT-S5DW"
      }
    },
    {
      "cell_type": "markdown",
      "source": [
        "%s"
      ],
      "metadata": {
        "id": "4wjfVkh_UeVy"
      }
    },
    {
      "cell_type": "code",
      "source": [
        "print('%10s' %('nice'))     # 자리수 : 부족한 부분은 왼쪽부터 공백으로 처리\n",
        "print('{:>10}'.format('nice'))"
      ],
      "metadata": {
        "colab": {
          "base_uri": "https://localhost:8080/"
        },
        "id": "J3VQFzaOSxKZ",
        "outputId": "00c8cd6e-ad5b-43dc-c19d-9826c3dc0292"
      },
      "execution_count": null,
      "outputs": [
        {
          "output_type": "stream",
          "name": "stdout",
          "text": [
            "      nice\n"
          ]
        }
      ]
    },
    {
      "cell_type": "code",
      "source": [
        "print('%-10s' %('nice'))\n",
        "print('{:10}'.format('nice'))"
      ],
      "metadata": {
        "colab": {
          "base_uri": "https://localhost:8080/"
        },
        "id": "BCmkOtaaTXYS",
        "outputId": "bb0b8ba2-9490-4799-9d23-5cd399e48725"
      },
      "execution_count": null,
      "outputs": [
        {
          "output_type": "stream",
          "name": "stdout",
          "text": [
            "nice      \n",
            "nice      \n"
          ]
        }
      ]
    },
    {
      "cell_type": "code",
      "source": [
        "print('{:_>10}'.format('nice'))"
      ],
      "metadata": {
        "colab": {
          "base_uri": "https://localhost:8080/"
        },
        "id": "Q5SI6vXuTfUV",
        "outputId": "39e07f30-dcd1-4475-c29d-4b0ca319c41d"
      },
      "execution_count": null,
      "outputs": [
        {
          "output_type": "stream",
          "name": "stdout",
          "text": [
            "______nice\n"
          ]
        }
      ]
    },
    {
      "cell_type": "code",
      "source": [
        "print('{:^10}'.format('nice'))        # 중앙정렬"
      ],
      "metadata": {
        "colab": {
          "base_uri": "https://localhost:8080/"
        },
        "id": "26Vri5LUTrp-",
        "outputId": "2d38e919-a11d-4ae7-a5fb-2494cb24a4cd"
      },
      "execution_count": null,
      "outputs": [
        {
          "output_type": "stream",
          "name": "stdout",
          "text": [
            "   nice   \n"
          ]
        }
      ]
    },
    {
      "cell_type": "code",
      "source": [
        "# .을 통해 절삭\n",
        "print('%.5s'%('nice'))\n",
        "print('%.5s'%('pythonstudy'))\n",
        "print('%5s'%('pythonstudy'))"
      ],
      "metadata": {
        "colab": {
          "base_uri": "https://localhost:8080/"
        },
        "id": "6s2qScTCTzzs",
        "outputId": "5123ea05-85dc-4c36-d0de-1e1346c3c03a"
      },
      "execution_count": null,
      "outputs": [
        {
          "output_type": "stream",
          "name": "stdout",
          "text": [
            "nice\n",
            "pytho\n",
            "pythonstudy\n"
          ]
        }
      ]
    },
    {
      "cell_type": "code",
      "source": [
        "print('{:10.5}'.format('pythonstudy'))    ## 공간은 10개를 만드는데, 절삭은 5개만"
      ],
      "metadata": {
        "colab": {
          "base_uri": "https://localhost:8080/"
        },
        "id": "SvU670OUU3tO",
        "outputId": "1dee365f-d21f-494f-d0a9-2c8a6a7ea6c4"
      },
      "execution_count": null,
      "outputs": [
        {
          "output_type": "stream",
          "name": "stdout",
          "text": [
            "pytho     \n"
          ]
        }
      ]
    },
    {
      "cell_type": "markdown",
      "source": [
        "%d"
      ],
      "metadata": {
        "id": "n1hTSn-LVJ39"
      }
    },
    {
      "cell_type": "code",
      "source": [
        "print('%d %d' % (1,2))"
      ],
      "metadata": {
        "colab": {
          "base_uri": "https://localhost:8080/"
        },
        "id": "0z3Ur3jvVHsh",
        "outputId": "ec568ec1-9e9f-4994-c511-e490a65da5eb"
      },
      "execution_count": null,
      "outputs": [
        {
          "output_type": "stream",
          "name": "stdout",
          "text": [
            "1 2\n"
          ]
        }
      ]
    },
    {
      "cell_type": "code",
      "source": [
        "print('{} {}'.format(1,2))"
      ],
      "metadata": {
        "colab": {
          "base_uri": "https://localhost:8080/"
        },
        "id": "QIgV6F35VPXn",
        "outputId": "be506ce7-7ebb-483f-e626-34c0980574f7"
      },
      "execution_count": null,
      "outputs": [
        {
          "output_type": "stream",
          "name": "stdout",
          "text": [
            "1 2\n"
          ]
        }
      ]
    },
    {
      "cell_type": "code",
      "source": [
        "print('%4d' % (42))\n",
        "print('{:4d}'.format(42))         # 정수일때는 d를 붇여줘야함"
      ],
      "metadata": {
        "colab": {
          "base_uri": "https://localhost:8080/"
        },
        "id": "S6lr2un6VYCz",
        "outputId": "24dcbaf4-da8b-4365-e767-d7a97fc9d7d3"
      },
      "execution_count": null,
      "outputs": [
        {
          "output_type": "stream",
          "name": "stdout",
          "text": [
            "  42\n",
            "  42\n"
          ]
        }
      ]
    },
    {
      "cell_type": "markdown",
      "source": [
        "%f"
      ],
      "metadata": {
        "id": "jLrhsN5WVnHv"
      }
    },
    {
      "cell_type": "code",
      "source": [
        "print('%f' % (3.143434343434))"
      ],
      "metadata": {
        "colab": {
          "base_uri": "https://localhost:8080/"
        },
        "id": "2R9lQYjxVlTz",
        "outputId": "31a5bb19-63bd-469d-b250-8a26afa93d27"
      },
      "execution_count": null,
      "outputs": [
        {
          "output_type": "stream",
          "name": "stdout",
          "text": [
            "3.143434\n"
          ]
        }
      ]
    },
    {
      "cell_type": "code",
      "source": [
        "print('%1.18f' % (3.143434343434))        # 1.18 : 정수부는 1자리, 소수부는 18자리"
      ],
      "metadata": {
        "colab": {
          "base_uri": "https://localhost:8080/"
        },
        "id": "SdQ7v7SsVr-S",
        "outputId": "d3cd089a-2300-4210-f9f5-41e61ceb6c8b"
      },
      "execution_count": null,
      "outputs": [
        {
          "output_type": "stream",
          "name": "stdout",
          "text": [
            "3.143434343433999967\n"
          ]
        }
      ]
    },
    {
      "cell_type": "code",
      "source": [
        "print('%06.2f' % (3.14159265353589793))     # 총 자리수가 6이고 소수부는 2자리, 모자른 두자리는 0으로 채움"
      ],
      "metadata": {
        "colab": {
          "base_uri": "https://localhost:8080/"
        },
        "id": "zBt2iJMNV193",
        "outputId": "b06ffacf-6e9c-40d2-9ebb-017dbff65a04"
      },
      "execution_count": null,
      "outputs": [
        {
          "output_type": "stream",
          "name": "stdout",
          "text": [
            "003.14\n"
          ]
        }
      ]
    },
    {
      "cell_type": "code",
      "source": [
        "print('{:06.2f}'.format(3.14159265353589793))"
      ],
      "metadata": {
        "colab": {
          "base_uri": "https://localhost:8080/"
        },
        "id": "jUmtRGkcWOU6",
        "outputId": "2a6c09c5-cc79-481a-a922-036cbda31dfc"
      },
      "execution_count": null,
      "outputs": [
        {
          "output_type": "stream",
          "name": "stdout",
          "text": [
            "003.14\n"
          ]
        }
      ]
    },
    {
      "cell_type": "markdown",
      "source": [
        "## 파이썬 Print 사용법(1-4) - New 2023"
      ],
      "metadata": {
        "id": "MRd6z_Uoiu9i"
      }
    },
    {
      "cell_type": "markdown",
      "source": [
        "### 참고 : Escape 코드\n",
        "* \\n : 개행\n",
        "* \\t : 탭\n",
        "* \\\\ : 문자\n",
        "* \\' : 문자\n",
        "* \\\" : 문자\n",
        "* \\000 : 널 문자"
      ],
      "metadata": {
        "id": "F_I4-CJcjrQr"
      }
    },
    {
      "cell_type": "markdown",
      "source": [
        "### 3가지 Format Practices"
      ],
      "metadata": {
        "id": "29XblXnmkWD0"
      }
    },
    {
      "cell_type": "code",
      "source": [
        "x = 50\n",
        "y = 100\n",
        "text = 308276567\n",
        "n = 'Lee'"
      ],
      "metadata": {
        "id": "_0Z4UZbiWkCu"
      },
      "execution_count": null,
      "outputs": []
    },
    {
      "cell_type": "code",
      "source": [
        "# 방법 1 : 잘 안씀, 가독성이 좀 떨어짐\n",
        "ex1 = 'n = %s, s = %s, sum=%d' % (n, text, (x+y))\n",
        "print(ex1)"
      ],
      "metadata": {
        "colab": {
          "base_uri": "https://localhost:8080/"
        },
        "id": "wtI6W_Ifkhqx",
        "outputId": "f6d9a046-2d67-4b04-ecbe-6eb89c27da23"
      },
      "execution_count": null,
      "outputs": [
        {
          "output_type": "stream",
          "name": "stdout",
          "text": [
            "n = Lee, s = 308276567, sum=150\n"
          ]
        }
      ]
    },
    {
      "cell_type": "code",
      "source": [
        "# 방법 2 : 이건 많이 씀\n",
        "ex2 = 'n = {n}, s = {s}, sum={sum}'.format(n=n, s=text, sum=x+y)\n",
        "print(ex2)"
      ],
      "metadata": {
        "colab": {
          "base_uri": "https://localhost:8080/"
        },
        "id": "LbR6PYTZkzRT",
        "outputId": "895290c8-efe4-4ce0-9621-f098d817d3d1"
      },
      "execution_count": null,
      "outputs": [
        {
          "output_type": "stream",
          "name": "stdout",
          "text": [
            "n = Lee, s = 308276567, sum=150\n"
          ]
        }
      ]
    },
    {
      "cell_type": "code",
      "source": [
        "# 방법 3(f-string) : 새로 나온 것. 많이 씀\n",
        "ex3 = f'n = {n}, s = {text}, sum = {x+y}'\n",
        "print(ex3)"
      ],
      "metadata": {
        "colab": {
          "base_uri": "https://localhost:8080/"
        },
        "id": "9_OTT3qxlNWp",
        "outputId": "d4ad575e-7929-4034-a391-50aaa0e5b09e"
      },
      "execution_count": null,
      "outputs": [
        {
          "output_type": "stream",
          "name": "stdout",
          "text": [
            "n = Lee, s = 308276567, sum = 150\n"
          ]
        }
      ]
    },
    {
      "cell_type": "markdown",
      "source": [
        "### 자주 나온 질문"
      ],
      "metadata": {
        "id": "hMgNplfdlyCX"
      }
    },
    {
      "cell_type": "code",
      "source": [
        "# 구분기호\n",
        "m = 100000000\n",
        "print(f'm : {m:,}')"
      ],
      "metadata": {
        "colab": {
          "base_uri": "https://localhost:8080/"
        },
        "id": "NvemBTPKlirB",
        "outputId": "6f234f14-1696-470a-c1f3-8210cebe2035"
      },
      "execution_count": null,
      "outputs": [
        {
          "output_type": "stream",
          "name": "stdout",
          "text": [
            "m : 100,000,000\n"
          ]
        }
      ]
    },
    {
      "cell_type": "code",
      "source": [
        "# 정렬\n",
        "## ^ : 가운데, < : 왼쪽, > : 오른쪽\n",
        "t = 20\n",
        "print(f\"t : {t:10}\")        # 10자리를 확보"
      ],
      "metadata": {
        "colab": {
          "base_uri": "https://localhost:8080/"
        },
        "id": "1I3IdG5Pl_KS",
        "outputId": "439ed93d-5cc4-42e1-8124-bd3f77a95eda"
      },
      "execution_count": null,
      "outputs": [
        {
          "output_type": "stream",
          "name": "stdout",
          "text": [
            "t :         20\n"
          ]
        }
      ]
    },
    {
      "cell_type": "code",
      "source": [
        "print(f\"t center : {t:^10}\")\n",
        "print(f\"t left : {t:<10}\")\n",
        "print(f\"t right : {t:>10}\")"
      ],
      "metadata": {
        "colab": {
          "base_uri": "https://localhost:8080/"
        },
        "id": "ckHofapVmcSz",
        "outputId": "69bb093d-7d79-471d-eb17-82bd24d90f7e"
      },
      "execution_count": null,
      "outputs": [
        {
          "output_type": "stream",
          "name": "stdout",
          "text": [
            "t center :     20    \n",
            "t left : 20        \n",
            "t right :         20\n"
          ]
        }
      ]
    },
    {
      "cell_type": "code",
      "source": [
        "print(f\"t center : {t:-^10}\")"
      ],
      "metadata": {
        "colab": {
          "base_uri": "https://localhost:8080/"
        },
        "id": "jt0cwrJXmgY-",
        "outputId": "73912a5f-27c9-40f9-8c54-24dd5a9c8a77"
      },
      "execution_count": null,
      "outputs": [
        {
          "output_type": "stream",
          "name": "stdout",
          "text": [
            "t center : ----20----\n"
          ]
        }
      ]
    },
    {
      "cell_type": "code",
      "source": [
        "print(f\"t center : {t:#<10}\")"
      ],
      "metadata": {
        "colab": {
          "base_uri": "https://localhost:8080/"
        },
        "id": "k43pA4ZQmv-X",
        "outputId": "d2b74dbe-7d39-44f9-e3cd-d8cd3be530ae"
      },
      "execution_count": null,
      "outputs": [
        {
          "output_type": "stream",
          "name": "stdout",
          "text": [
            "t center : 20########\n"
          ]
        }
      ]
    },
    {
      "cell_type": "markdown",
      "source": [
        "# 2) 파이썬 변수\n",
        "## 다양한 변수 선언법\n",
        "* 변수 할당 설명\n",
        "* Object Identity\n",
        "* 변수 네이밍 규칙\n",
        "* 예약어"
      ],
      "metadata": {
        "id": "Al3SZWRwpYjp"
      }
    },
    {
      "cell_type": "markdown",
      "source": [
        "## 파이썬 변수(2-1) : 변수에 대한 이해는 정말 중요해요."
      ],
      "metadata": {
        "id": "XpNM1Yc-pKFi"
      }
    },
    {
      "cell_type": "code",
      "source": [
        "# 기본 선언\n",
        "n = 700             # 변수에 값을 할당한다 / 메모리에 n이라는 주소에 값을 할당하고, 값을 찾아오는 것\n",
        "print(n)\n",
        "print(n * 700)\n",
        "print(type(n))      # 자료형 출력"
      ],
      "metadata": {
        "colab": {
          "base_uri": "https://localhost:8080/"
        },
        "id": "poupnmeTm5_v",
        "outputId": "f72b2d86-b807-4025-e0b8-9082248a4dd1"
      },
      "execution_count": null,
      "outputs": [
        {
          "output_type": "stream",
          "name": "stdout",
          "text": [
            "700\n",
            "490000\n",
            "<class 'int'>\n"
          ]
        }
      ]
    },
    {
      "cell_type": "code",
      "source": [
        "# 동시 선언\n",
        "x = y = z = 700\n",
        "print(x,y,z)"
      ],
      "metadata": {
        "colab": {
          "base_uri": "https://localhost:8080/"
        },
        "id": "93q-LbJoqOhG",
        "outputId": "ab918542-e841-40f4-fd66-283f084ac87b"
      },
      "execution_count": null,
      "outputs": [
        {
          "output_type": "stream",
          "name": "stdout",
          "text": [
            "700 700 700\n"
          ]
        }
      ]
    },
    {
      "cell_type": "code",
      "source": [
        "# 선언\n",
        "var = 75\n",
        "\n",
        "# 재선언\n",
        "var = \"Change Value\"\n",
        "\n",
        "print(var)\n",
        "print(type(var))"
      ],
      "metadata": {
        "colab": {
          "base_uri": "https://localhost:8080/"
        },
        "id": "Du4x2hoTqU46",
        "outputId": "3c84f315-8c51-4c48-8b5d-83f4ce4b5c3a"
      },
      "execution_count": null,
      "outputs": [
        {
          "output_type": "stream",
          "name": "stdout",
          "text": [
            "Change Value\n",
            "<class 'str'>\n"
          ]
        }
      ]
    },
    {
      "cell_type": "markdown",
      "source": [
        "### Object References\n",
        "변수 값 할당 상태\n",
        "1. 타입에 맞는 오브젝트 생성\n",
        "2. 값 생성\n",
        "3. 콘솔 출력"
      ],
      "metadata": {
        "id": "eSGjgkaaq4rF"
      }
    },
    {
      "cell_type": "code",
      "source": [
        "# 예1)\n",
        "print(300)\n",
        "print(int(300))       # 이게 위에꺼가 실행하는 방식"
      ],
      "metadata": {
        "colab": {
          "base_uri": "https://localhost:8080/"
        },
        "id": "kwEX7dUWqhDr",
        "outputId": "b1656a64-b456-4439-f1b2-1b08486edf1a"
      },
      "execution_count": null,
      "outputs": [
        {
          "output_type": "stream",
          "name": "stdout",
          "text": [
            "300\n",
            "300\n"
          ]
        }
      ]
    },
    {
      "cell_type": "code",
      "source": [
        "# 예2)\n",
        "n = 777\n",
        "print(n, type(n))"
      ],
      "metadata": {
        "colab": {
          "base_uri": "https://localhost:8080/"
        },
        "id": "87XlxBHSredS",
        "outputId": "f75bdcfe-064b-42f5-84cd-d1b4947acd3b"
      },
      "execution_count": null,
      "outputs": [
        {
          "output_type": "stream",
          "name": "stdout",
          "text": [
            "777 <class 'int'>\n"
          ]
        }
      ]
    },
    {
      "cell_type": "code",
      "source": [
        "m = n\n",
        "print(m, n)\n",
        "print(type(m), type(n))"
      ],
      "metadata": {
        "colab": {
          "base_uri": "https://localhost:8080/"
        },
        "id": "PvIr1gAQrtZ6",
        "outputId": "844dcde5-f8bb-49a9-8c8e-f72f75ab49d1"
      },
      "execution_count": null,
      "outputs": [
        {
          "output_type": "stream",
          "name": "stdout",
          "text": [
            "777 777\n",
            "<class 'int'> <class 'int'>\n"
          ]
        }
      ]
    },
    {
      "cell_type": "code",
      "source": [
        "m = 400\n",
        "print(m, n)\n",
        "print(type(m), type(n))"
      ],
      "metadata": {
        "colab": {
          "base_uri": "https://localhost:8080/"
        },
        "id": "6rv5zDvDr_SK",
        "outputId": "13fc45d1-6fdf-41d5-c4bf-17b1763462a4"
      },
      "execution_count": null,
      "outputs": [
        {
          "output_type": "stream",
          "name": "stdout",
          "text": [
            "400 777\n",
            "<class 'int'> <class 'int'>\n"
          ]
        }
      ]
    },
    {
      "cell_type": "markdown",
      "source": [
        "id(identity) 확인 : 객체의 고유값 확인"
      ],
      "metadata": {
        "id": "M_3hsxvTsNZz"
      }
    },
    {
      "cell_type": "code",
      "source": [
        "m = 800\n",
        "n = 655\n",
        "\n",
        "print(id(m))          # object에 맞는 고유값을 출력\n",
        "print(id(n))"
      ],
      "metadata": {
        "colab": {
          "base_uri": "https://localhost:8080/"
        },
        "id": "UtfmtDcxsDqM",
        "outputId": "a981982b-f9ab-423a-d0ed-7dccf6c7a3b8"
      },
      "execution_count": null,
      "outputs": [
        {
          "output_type": "stream",
          "name": "stdout",
          "text": [
            "140360669889712\n",
            "140360669889936\n"
          ]
        }
      ]
    },
    {
      "cell_type": "code",
      "source": [
        "print(id(m) == id(n))       # 두 개의 고유값은 다름"
      ],
      "metadata": {
        "colab": {
          "base_uri": "https://localhost:8080/"
        },
        "id": "mXNEwGo7sW5z",
        "outputId": "ebd75806-2d8e-4fba-c4f0-fce0f5b0e22a"
      },
      "execution_count": null,
      "outputs": [
        {
          "output_type": "stream",
          "name": "stdout",
          "text": [
            "False\n"
          ]
        }
      ]
    },
    {
      "cell_type": "code",
      "source": [
        "m = 800\n",
        "n = 800\n",
        "a = 800\n",
        "\n",
        "print(id(m))\n",
        "print(id(n))\n",
        "print(id(m) == id(n))       # 왜 나는 False로 나오지?"
      ],
      "metadata": {
        "colab": {
          "base_uri": "https://localhost:8080/"
        },
        "id": "ZDjqOZgKsk-W",
        "outputId": "6743921d-ef3e-4c8d-a2b6-573056dc36bf"
      },
      "execution_count": null,
      "outputs": [
        {
          "output_type": "stream",
          "name": "stdout",
          "text": [
            "140360669888944\n",
            "140360669900752\n",
            "False\n"
          ]
        }
      ]
    },
    {
      "cell_type": "markdown",
      "source": [
        "## 파이썬 변수(2-2)"
      ],
      "metadata": {
        "id": "XDw5MrGIwCKV"
      }
    },
    {
      "cell_type": "markdown",
      "source": [
        "다양한 변수 선언\n",
        "* Camel Case : numberOfCollegeGraduates -> Method에서 사용\n",
        "* Pascal Case : NumberOfCollegeGraduates -> Class에서 사용\n",
        "* Snake Case : number_of_college_graduates -> Python 변수에서 사용"
      ],
      "metadata": {
        "id": "XLYAk-AqtQ-y"
      }
    },
    {
      "cell_type": "code",
      "source": [
        "# 허용하는 변수 선언 법\n",
        "age = 1\n",
        "Age = 2\n",
        "aGe = 3\n",
        "AGE = 4\n",
        "a_g_e = 5\n",
        "_age = 6\n",
        "age_ = 7\n",
        "_AGE_ = 8"
      ],
      "metadata": {
        "id": "s6eb1nXitJ0k"
      },
      "execution_count": null,
      "outputs": []
    },
    {
      "cell_type": "markdown",
      "source": [
        "예약어는 변수명으로 불가능\n",
        "\n",
        "https://realpython.com/lessons/reserved-keywords/\n",
        "\n",
        "![image.png](data:image/png;base64,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)"
      ],
      "metadata": {
        "id": "Zjt0CuXfuuFC"
      }
    },
    {
      "cell_type": "code",
      "source": [],
      "metadata": {
        "id": "iirxbV8Bv0tr"
      },
      "execution_count": null,
      "outputs": []
    }
  ]
}