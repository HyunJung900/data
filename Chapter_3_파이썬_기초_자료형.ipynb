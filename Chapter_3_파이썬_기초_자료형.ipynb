{
  "nbformat": 4,
  "nbformat_minor": 0,
  "metadata": {
    "colab": {
      "provenance": [],
      "authorship_tag": "ABX9TyOv6CyDWXzVZGlS26gqScMn",
      "include_colab_link": true
    },
    "kernelspec": {
      "name": "python3",
      "display_name": "Python 3"
    },
    "language_info": {
      "name": "python"
    }
  },
  "cells": [
    {
      "cell_type": "markdown",
      "metadata": {
        "id": "view-in-github",
        "colab_type": "text"
      },
      "source": [
        "<a href=\"https://colab.research.google.com/github/HyunJung900/data/blob/master/Chapter_3_%ED%8C%8C%EC%9D%B4%EC%8D%AC_%EA%B8%B0%EC%B4%88_%EC%9E%90%EB%A3%8C%ED%98%95.ipynb\" target=\"_parent\"><img src=\"https://colab.research.google.com/assets/colab-badge.svg\" alt=\"Open In Colab\"/></a>"
      ]
    },
    {
      "cell_type": "markdown",
      "source": [
        "# 1) 숫자형\n",
        "## 숫자형 사용법\n",
        "* 파이썬 모든 자료형\n",
        "* 데이터 타입 선언\n",
        "* 연산자 활용\n",
        "* 형 변환\n",
        "* 외부 모듈 사용"
      ],
      "metadata": {
        "id": "G1iOm2HRnhkB"
      }
    },
    {
      "cell_type": "markdown",
      "source": [
        "## 숫자형(1-1) : 계산의 기본은 숫자형"
      ],
      "metadata": {
        "id": "fnFIkTEMoDWU"
      }
    },
    {
      "cell_type": "markdown",
      "source": [
        "### 파이썬 지원 자료형\n",
        "* int : 정수\n",
        "* float : 실수\n",
        "* complex ; 복소수\n",
        "* bool : 불린\n",
        "* str : 문자열(시퀀스)\n",
        "* list : 리스트(시퀀스)\n",
        "* tuple : 튜플(시퀀스)\n",
        "* set : 집합\n",
        "* dict : 사전"
      ],
      "metadata": {
        "id": "tkuykJ-uoiDj"
      }
    },
    {
      "cell_type": "code",
      "execution_count": 14,
      "metadata": {
        "id": "h7eOeoyVnduj"
      },
      "outputs": [],
      "source": [
        "str1 = \"Python\"\n",
        "bool1 = True\n",
        "str2 = 'Anaconda'\n",
        "float1 = 10.0                        # 10 == 10.0 은 다름! 타입이 다르기 때문\n",
        "int1 = 7\n",
        "list1 = [str1, str2]\n",
        "dict1 = {\n",
        "    \"name\" : \"Machine Learning\",\n",
        "    \"version\" : 2.0\n",
        "}                                   # key : value\n",
        "tuple1 = (7, 8, 9)                   # tuple = 7, 8, 9     <- 이것도 동일\n",
        "set1 = {7, 8, 9}"
      ]
    },
    {
      "cell_type": "code",
      "source": [
        "print(type(str1))\n",
        "print(type(bool1))\n",
        "print(type(str2))\n",
        "print(type(float1))\n",
        "print(type(int1))\n",
        "print(type(list1))\n",
        "print(type(dict1))\n",
        "print(type(tuple1))\n",
        "print(type(set1))"
      ],
      "metadata": {
        "colab": {
          "base_uri": "https://localhost:8080/"
        },
        "id": "eEW1Q7_npmiN",
        "outputId": "3f3a1f61-7ba2-4a73-ff1d-88c4e9bf9d81"
      },
      "execution_count": 15,
      "outputs": [
        {
          "output_type": "stream",
          "name": "stdout",
          "text": [
            "<class 'str'>\n",
            "<class 'bool'>\n",
            "<class 'str'>\n",
            "<class 'float'>\n",
            "<class 'int'>\n",
            "<class 'list'>\n",
            "<class 'dict'>\n",
            "<class 'tuple'>\n",
            "<class 'set'>\n"
          ]
        }
      ]
    },
    {
      "cell_type": "markdown",
      "source": [
        "### 숫자형 연산자\n",
        "* +\n",
        "* -\n",
        "* *\n",
        "* /\n",
        "* // : 몫\n",
        "* % : 나머지\n",
        "* abs(x) : 절대값\n",
        "* pow(x, y) : x의 y 제곱 == x ** y\n",
        "\n",
        "+) 서로 다른 형끼리 계산을 하면 형 변환이 일어난다."
      ],
      "metadata": {
        "id": "E0CH7v9VqI6j"
      }
    },
    {
      "cell_type": "code",
      "source": [
        "# 정수\n",
        "i = 77\n",
        "i2 = -14\n",
        "big_int = 777777777777777777777777777777777777777779999999999999999999999999"
      ],
      "metadata": {
        "id": "MiBEcwL2pyG_"
      },
      "execution_count": 5,
      "outputs": []
    },
    {
      "cell_type": "code",
      "source": [
        "# 실수\n",
        "f = 0.9999\n",
        "f2 = 3.141592\n",
        "f3 = -3.9\n",
        "f4 = 3 / 9"
      ],
      "metadata": {
        "id": "3jsq2V-nqsGU"
      },
      "execution_count": 6,
      "outputs": []
    },
    {
      "cell_type": "code",
      "source": [
        "# 연산 실습\n",
        "i1 = 39\n",
        "i2 = 939\n",
        "big_int1 = 7777777777777777777777777777777777777777777999999999999999999923234\n",
        "big_int2 = 234534547634847839485729394859288178111111111222233333333333345555\n",
        "f1 = 1.234\n",
        "f2 = 3.939"
      ],
      "metadata": {
        "id": "e7Cs0Mu9q5ms"
      },
      "execution_count": 9,
      "outputs": []
    },
    {
      "cell_type": "code",
      "source": [
        "# +\n",
        "print(\">>>>> +\")\n",
        "print(\"i1 + i2 : \", i1 + i2)\n",
        "print(\"f1 + f2 : \", f1 + f2)\n",
        "print(\"big_int1 + big_int2 : \", big_int1 + big_int2)"
      ],
      "metadata": {
        "colab": {
          "base_uri": "https://localhost:8080/"
        },
        "id": "lGua3GTerLop",
        "outputId": "22fa35e8-6f92-4c19-d2e0-5bcd5b363e2b"
      },
      "execution_count": 10,
      "outputs": [
        {
          "output_type": "stream",
          "name": "stdout",
          "text": [
            ">>>>> +\n",
            "i1 + i2 :  978\n",
            "f1 + f2 :  5.173\n",
            "big_int1 + big_int2 :  8012312325412625617263507172637065955888889111222233333333333268789\n"
          ]
        }
      ]
    },
    {
      "cell_type": "markdown",
      "source": [
        "## 숫자형(1-2)"
      ],
      "metadata": {
        "id": "yj_oP_ZLr7v2"
      }
    },
    {
      "cell_type": "code",
      "source": [
        "# 형 변환 실습\n",
        "a = 3.\n",
        "b = 6           # int\n",
        "c = .7\n",
        "d = 12.7"
      ],
      "metadata": {
        "id": "74p9LwZersiZ"
      },
      "execution_count": 17,
      "outputs": []
    },
    {
      "cell_type": "code",
      "source": [
        "# 타입 출력\n",
        "print(type(a))\n",
        "print(type(b))\n",
        "print(type(c))\n",
        "print(type(d))"
      ],
      "metadata": {
        "colab": {
          "base_uri": "https://localhost:8080/"
        },
        "id": "DPpydB22sMtt",
        "outputId": "081746f9-efc5-4e89-c757-b6acf6235f1e"
      },
      "execution_count": 12,
      "outputs": [
        {
          "output_type": "stream",
          "name": "stdout",
          "text": [
            "<class 'float'>\n",
            "<class 'int'>\n",
            "<class 'float'>\n",
            "<class 'float'>\n"
          ]
        }
      ]
    },
    {
      "cell_type": "code",
      "source": [
        "del float\n",
        "del int"
      ],
      "metadata": {
        "id": "fplK1cWDtJUu"
      },
      "execution_count": 22,
      "outputs": []
    },
    {
      "cell_type": "code",
      "source": [
        "# 형 변환\n",
        "print(float(b))\n",
        "print(int(c))\n",
        "print(int(d))\n",
        "print(int(True))            # True : 1, False : 0\n",
        "print(float(False))\n",
        "print(complex(3))\n",
        "print(complex('3'))         # 문자형 -> int -> comple\n",
        "print(complex(False))"
      ],
      "metadata": {
        "colab": {
          "base_uri": "https://localhost:8080/"
        },
        "id": "1XqoIK-nsQ4K",
        "outputId": "4593804f-ab67-426c-e88f-0e0f3ff2d43b"
      },
      "execution_count": 24,
      "outputs": [
        {
          "output_type": "stream",
          "name": "stdout",
          "text": [
            "6.0\n",
            "0\n",
            "12\n",
            "1\n",
            "0.0\n",
            "(3+0j)\n",
            "(3+0j)\n",
            "0j\n"
          ]
        }
      ]
    },
    {
      "cell_type": "code",
      "source": [
        "# 수치 연산 함수\n",
        "print(abs(-7))\n",
        "\n",
        "x, y = divmod(100, 8)           # x : 몫, y : 나머지\n",
        "print(x, y)\n",
        "\n",
        "print(pow(5, 3), 5**3)"
      ],
      "metadata": {
        "colab": {
          "base_uri": "https://localhost:8080/"
        },
        "id": "QaGpT24Csk35",
        "outputId": "41c65afe-1465-4a2c-b6f8-a82416f59c47"
      },
      "execution_count": 25,
      "outputs": [
        {
          "output_type": "stream",
          "name": "stdout",
          "text": [
            "7\n",
            "12 4\n",
            "125 125\n"
          ]
        }
      ]
    },
    {
      "cell_type": "code",
      "source": [
        "# 외부 모듈\n",
        "import math\n",
        "\n",
        "print(math.pi)\n",
        "print(math.ceil(5.1))           # x 이상의 수 중에서 가장 작은 정수"
      ],
      "metadata": {
        "colab": {
          "base_uri": "https://localhost:8080/"
        },
        "id": "7lVVJH84uKR6",
        "outputId": "92be4683-ebbd-4c3b-8b2d-6deff1221a7b"
      },
      "execution_count": 27,
      "outputs": [
        {
          "output_type": "stream",
          "name": "stdout",
          "text": [
            "3.141592653589793\n",
            "6\n"
          ]
        }
      ]
    },
    {
      "cell_type": "markdown",
      "source": [
        "# 2) 문자형"
      ],
      "metadata": {
        "id": "1v7TNPDQusyk"
      }
    },
    {
      "cell_type": "markdown",
      "source": [
        "## 문자형(2-1) : 텍스트 출력도 중요하겠죠?"
      ],
      "metadata": {
        "id": "EOsfri5vBdyl"
      }
    },
    {
      "cell_type": "code",
      "source": [
        "# 문자열 생성\n",
        "str1 = \"I am Python\"\n",
        "str2 = 'Python'\n",
        "str3 = \"\"\"How are you?\"\"\"\n",
        "str4 = '''Thank you!'''\n",
        "\n",
        "# 타입\n",
        "print(type(str1), type(str2), type(str3), type(str4))\n",
        "\n",
        "# 길이\n",
        "print(len(str1), len(str2), len(str3), len(str4))"
      ],
      "metadata": {
        "colab": {
          "base_uri": "https://localhost:8080/"
        },
        "id": "B0U1G60tuYbl",
        "outputId": "3d22c9ab-5e58-47bb-c230-0cda0973c9bd"
      },
      "execution_count": 2,
      "outputs": [
        {
          "output_type": "stream",
          "name": "stdout",
          "text": [
            "<class 'str'> <class 'str'> <class 'str'> <class 'str'>\n",
            "11 6 12 10\n"
          ]
        }
      ]
    },
    {
      "cell_type": "code",
      "source": [
        "# 빈 문자열\n",
        "str1_t1 = ''\n",
        "str2_t2 = str()\n",
        "\n",
        "print(type(str1_t1), len(str1_t1))\n",
        "print(type(str2_t2), len(str2_t2))"
      ],
      "metadata": {
        "colab": {
          "base_uri": "https://localhost:8080/"
        },
        "id": "lF2N57pvBzuz",
        "outputId": "0c3feb17-3789-42b2-c90a-6c70be843582"
      },
      "execution_count": 3,
      "outputs": [
        {
          "output_type": "stream",
          "name": "stdout",
          "text": [
            "<class 'str'> 0\n",
            "<class 'str'> 0\n"
          ]
        }
      ]
    },
    {
      "cell_type": "markdown",
      "source": [
        "### 참고 : Escape 코드\n",
        "* \\n : 개행\n",
        "* \\t : 탭\n",
        "* \\\\ : 문자\n",
        "* \\' : 문자\n",
        "* \\\" : 문자\n",
        "* \\000 : 널 문자"
      ],
      "metadata": {
        "id": "M9-gn0AUC907"
      }
    },
    {
      "cell_type": "code",
      "source": [
        "# 이스케이프 문자 사용\n",
        "print(\"I'm a boy\")\n",
        "print('I\\'m a boy')       # 이스케이프 문자 사용 : 뒤에 있는 특수기호를 그대로 출력"
      ],
      "metadata": {
        "colab": {
          "base_uri": "https://localhost:8080/"
        },
        "id": "jETQ64bRCRsU",
        "outputId": "eeac61b6-ca56-45b2-dd91-b9deced2e969"
      },
      "execution_count": 4,
      "outputs": [
        {
          "output_type": "stream",
          "name": "stdout",
          "text": [
            "I'm a boy\n",
            "I'm a boy\n"
          ]
        }
      ]
    },
    {
      "cell_type": "code",
      "source": [
        "print('a \\t b')         # 탭\n",
        "print('a \\n b')         # 줄바꿈"
      ],
      "metadata": {
        "colab": {
          "base_uri": "https://localhost:8080/"
        },
        "id": "a2Bz2FdyCteN",
        "outputId": "2d6d0614-97ca-4ff9-d0d1-8915f5247acd"
      },
      "execution_count": 5,
      "outputs": [
        {
          "output_type": "stream",
          "name": "stdout",
          "text": [
            "a \t b\n",
            "a \n",
            " b\n"
          ]
        }
      ]
    },
    {
      "cell_type": "code",
      "source": [
        "escape_str1 = \"Do you have a \\\"retro games\\\"?\"\n",
        "print(escape_str1)"
      ],
      "metadata": {
        "colab": {
          "base_uri": "https://localhost:8080/"
        },
        "id": "imLhE7xqCnm3",
        "outputId": "832777da-badf-4eb3-e5fd-8115d5f737f3"
      },
      "execution_count": 6,
      "outputs": [
        {
          "output_type": "stream",
          "name": "stdout",
          "text": [
            "Do you have a \"retro games\"?\n"
          ]
        }
      ]
    },
    {
      "cell_type": "code",
      "source": [
        "escape_str2 = 'What\\'s on TV?'\n",
        "print(escape_str2)"
      ],
      "metadata": {
        "colab": {
          "base_uri": "https://localhost:8080/"
        },
        "id": "6mNQeNfKERWF",
        "outputId": "7841e0f8-6bc3-4744-ecb1-37a6f80c8fd3"
      },
      "execution_count": 8,
      "outputs": [
        {
          "output_type": "stream",
          "name": "stdout",
          "text": [
            "What's on TV?\n"
          ]
        }
      ]
    },
    {
      "cell_type": "code",
      "source": [
        "# 탭, 줄 바꿈\n",
        "t_s1 = \"Click \\t Start!\"\n",
        "t_s2 = 'New Line \\n Check!'\n",
        "\n",
        "print(t_s1)\n",
        "print(t_s2)"
      ],
      "metadata": {
        "colab": {
          "base_uri": "https://localhost:8080/"
        },
        "id": "yevnkmeREXbo",
        "outputId": "f48dc779-e449-4224-8a39-f75edeb9775c"
      },
      "execution_count": 9,
      "outputs": [
        {
          "output_type": "stream",
          "name": "stdout",
          "text": [
            "Click \t Start!\n",
            "New Line \n",
            " Check!\n"
          ]
        }
      ]
    },
    {
      "cell_type": "code",
      "source": [
        "# Raw String <-> escape\n",
        "raw_s1 = r'D:\\python\\test'\n",
        "print(raw_s1)"
      ],
      "metadata": {
        "colab": {
          "base_uri": "https://localhost:8080/"
        },
        "id": "M_m5DdCTEjrQ",
        "outputId": "b93b7ce5-1de9-41fb-c293-418d9aa8f48e"
      },
      "execution_count": 10,
      "outputs": [
        {
          "output_type": "stream",
          "name": "stdout",
          "text": [
            "D:\\python\\test\n"
          ]
        }
      ]
    },
    {
      "cell_type": "markdown",
      "source": [
        "## 문자형(2-2)"
      ],
      "metadata": {
        "id": "WXmGXBnrFuW4"
      }
    },
    {
      "cell_type": "code",
      "source": [
        "# 멀티라인 입력\n",
        "multi_str = \\                       # 이 뒤에 계속하여 변수 선언을 할거다!\n",
        "\"\"\"\n",
        "오늘은 크리스마스 이브이다\n",
        "근데 나는 집이다\n",
        "좋은데 안좋다\n",
        "무슨 느낌일까요\n",
        "\"\"\"\n",
        "\n",
        "print(multi_str)"
      ],
      "metadata": {
        "colab": {
          "base_uri": "https://localhost:8080/"
        },
        "id": "Ex9nJI85E4VK",
        "outputId": "fcd727da-6e75-40a4-e639-69bdc7063358"
      },
      "execution_count": 12,
      "outputs": [
        {
          "output_type": "stream",
          "name": "stdout",
          "text": [
            "\n",
            "오늘은 크리스마스 이브이다\n",
            "근데 나는 집이다\n",
            "좋은데 안좋다\n",
            "무슨 느낌일까요\n",
            "\n"
          ]
        }
      ]
    },
    {
      "cell_type": "markdown",
      "source": [
        "### 문자열 연산"
      ],
      "metadata": {
        "id": "N4a2W4YlHAcj"
      }
    },
    {
      "cell_type": "code",
      "source": [
        "str_o1 = \"Python\"\n",
        "str_o2 = \"Apple\"\n",
        "str_o3 = \"How are you doing\"\n",
        "str_o4 = \"Seoul Deajoen Busan Jinju\""
      ],
      "metadata": {
        "id": "TGtlk6zFGRsz"
      },
      "execution_count": 13,
      "outputs": []
    },
    {
      "cell_type": "code",
      "source": [
        "# 반복 출력\n",
        "print(str_o1 * 3)\n",
        "\n",
        "# 문자 병합\n",
        "print(str_o1 + str_o2)\n",
        "\n",
        "# 문자 내 특정 문자열 포함 여부\n",
        "print('y' in str_o1)\n",
        "print('P' not in str_o2)          # 대소문자 구분 함!"
      ],
      "metadata": {
        "colab": {
          "base_uri": "https://localhost:8080/"
        },
        "id": "i74MPw5bGzqq",
        "outputId": "9769aaaa-b97d-418f-b292-577e92854b35"
      },
      "execution_count": 14,
      "outputs": [
        {
          "output_type": "stream",
          "name": "stdout",
          "text": [
            "PythonPythonPython\n",
            "PythonApple\n",
            "True\n",
            "True\n"
          ]
        }
      ]
    },
    {
      "cell_type": "markdown",
      "source": [
        "### 문자열 형변환"
      ],
      "metadata": {
        "id": "phhbjq3tHahm"
      }
    },
    {
      "cell_type": "code",
      "source": [
        "print(str(66), type(str(66)))\n",
        "print(str(10.1))\n",
        "print(str(True), type(str(True)))"
      ],
      "metadata": {
        "colab": {
          "base_uri": "https://localhost:8080/"
        },
        "id": "3ALaK-LuHZxj",
        "outputId": "d2bd3a94-f820-4a72-ba37-bea240b0bc0e"
      },
      "execution_count": 16,
      "outputs": [
        {
          "output_type": "stream",
          "name": "stdout",
          "text": [
            "66 <class 'str'>\n",
            "10.1\n",
            "True <class 'str'>\n"
          ]
        }
      ]
    },
    {
      "cell_type": "markdown",
      "source": [
        "### 문자열 함수 (upper, isalnum, startswith, count, endswith, isalpha ...)"
      ],
      "metadata": {
        "id": "xr9RkL29M9IU"
      }
    },
    {
      "cell_type": "code",
      "source": [
        "# 첫번째 시작 글자를 대문자로\n",
        "print(\"Capitalize : \", str_o1.capitalize())\n",
        "\n",
        "# 마지막 문자가 특정 문자열이 맞는지 체크\n",
        "print(\"endswith : \", str_o2.endswith(\"e\"))\n",
        "\n",
        "# 특정 문자열을 대체\n",
        "print(\"replace : \", str_o1.replace(\"thon\", 'Good'))\n",
        "\n",
        "# 리스트 형태로 각 문자열을 정렬\n",
        "print(\"sorted : \", sorted(str_o1))\n",
        "\n",
        "# 특정 문자열을 기준으로 잘라서, 리스트 형태로 분리\n",
        "print(\"split : \", str_o4.split(' '))"
      ],
      "metadata": {
        "colab": {
          "base_uri": "https://localhost:8080/"
        },
        "id": "mkL2ZJMUHin7",
        "outputId": "74b602ca-5cf3-4d31-eb73-d5e203c4a241"
      },
      "execution_count": 18,
      "outputs": [
        {
          "output_type": "stream",
          "name": "stdout",
          "text": [
            "Capitalize :  Python\n",
            "endswith :  True\n",
            "replace :  PyGood\n",
            "sorted :  ['P', 'h', 'n', 'o', 't', 'y']\n",
            "split :  ['Seoul', 'Deajoen', 'Busan', 'Jinju']\n"
          ]
        }
      ]
    },
    {
      "cell_type": "markdown",
      "source": [
        "### 반복(시퀀스)"
      ],
      "metadata": {
        "id": "0csSoVaKN84-"
      }
    },
    {
      "cell_type": "code",
      "source": [
        "im_str = \"Good Boy!\"\n",
        "\n",
        "print(dir(im_str))            # __iter__"
      ],
      "metadata": {
        "colab": {
          "base_uri": "https://localhost:8080/"
        },
        "id": "hx8iFOHWMz7T",
        "outputId": "eaa706d2-e410-4df2-de67-a4200cb18f1c"
      },
      "execution_count": 19,
      "outputs": [
        {
          "output_type": "stream",
          "name": "stdout",
          "text": [
            "['__add__', '__class__', '__contains__', '__delattr__', '__dir__', '__doc__', '__eq__', '__format__', '__ge__', '__getattribute__', '__getitem__', '__getnewargs__', '__gt__', '__hash__', '__init__', '__init_subclass__', '__iter__', '__le__', '__len__', '__lt__', '__mod__', '__mul__', '__ne__', '__new__', '__reduce__', '__reduce_ex__', '__repr__', '__rmod__', '__rmul__', '__setattr__', '__sizeof__', '__str__', '__subclasshook__', 'capitalize', 'casefold', 'center', 'count', 'encode', 'endswith', 'expandtabs', 'find', 'format', 'format_map', 'index', 'isalnum', 'isalpha', 'isascii', 'isdecimal', 'isdigit', 'isidentifier', 'islower', 'isnumeric', 'isprintable', 'isspace', 'istitle', 'isupper', 'join', 'ljust', 'lower', 'lstrip', 'maketrans', 'partition', 'removeprefix', 'removesuffix', 'replace', 'rfind', 'rindex', 'rjust', 'rpartition', 'rsplit', 'rstrip', 'split', 'splitlines', 'startswith', 'strip', 'swapcase', 'title', 'translate', 'upper', 'zfill']\n"
          ]
        }
      ]
    },
    {
      "cell_type": "code",
      "source": [
        "# 출력\n",
        "for i in im_str :\n",
        "  print(i)"
      ],
      "metadata": {
        "colab": {
          "base_uri": "https://localhost:8080/"
        },
        "id": "1Yyoazd3ODsy",
        "outputId": "8a66bf0f-3d93-4aa5-d645-d7edb743425b"
      },
      "execution_count": 20,
      "outputs": [
        {
          "output_type": "stream",
          "name": "stdout",
          "text": [
            "G\n",
            "o\n",
            "o\n",
            "d\n",
            " \n",
            "B\n",
            "o\n",
            "y\n",
            "!\n"
          ]
        }
      ]
    },
    {
      "cell_type": "markdown",
      "source": [
        "## 문자형(2-3)"
      ],
      "metadata": {
        "id": "rtmQdg_1ObBt"
      }
    },
    {
      "cell_type": "markdown",
      "source": [
        "### 슬라이싱 연습"
      ],
      "metadata": {
        "id": "TQYgbeUIOfCW"
      }
    },
    {
      "cell_type": "code",
      "source": [
        "str_sl = \"Nice Python\""
      ],
      "metadata": {
        "id": "X9iUuvq8OQhU"
      },
      "execution_count": 21,
      "outputs": []
    },
    {
      "cell_type": "code",
      "source": [
        "print(str_sl[0:3])        # 인덱스 기준이고, a:b 는 a~b-1까지\n",
        "print(str_sl[5:])         # [5:11]\n",
        "print(str_sl[:len(str_sl)])     # str_sl[:11]\n",
        "print(str_sl[1:4:2])            # 1부터 3까지인데 2칸씩 띄어서 갖고와라"
      ],
      "metadata": {
        "colab": {
          "base_uri": "https://localhost:8080/"
        },
        "id": "TkYqjDB7OuTh",
        "outputId": "939fe017-a108-457d-d6d9-abf68226f009"
      },
      "execution_count": 22,
      "outputs": [
        {
          "output_type": "stream",
          "name": "stdout",
          "text": [
            "Nic\n",
            "Python\n",
            "Nice Python\n",
            "ie\n"
          ]
        }
      ]
    },
    {
      "cell_type": "code",
      "source": [
        "print(str_sl[-5:])\n",
        "print(str_sl[1:-2])"
      ],
      "metadata": {
        "colab": {
          "base_uri": "https://localhost:8080/"
        },
        "id": "PtdnfceIPyHB",
        "outputId": "a6b03b3f-12f9-4f45-e210-bb586b6d7e19"
      },
      "execution_count": 23,
      "outputs": [
        {
          "output_type": "stream",
          "name": "stdout",
          "text": [
            "ython\n",
            "ice Pyth\n"
          ]
        }
      ]
    },
    {
      "cell_type": "code",
      "source": [
        "print(str_sl[::2])        # 처음부터 끝까지 두칸씩\n",
        "print(str_sl[::-1])       # 처음부터 끝까지인데 거꾸로!"
      ],
      "metadata": {
        "colab": {
          "base_uri": "https://localhost:8080/"
        },
        "id": "8Ghe9musQGZd",
        "outputId": "e887de52-06a9-4aa9-e683-c1483d2f2f6f"
      },
      "execution_count": 24,
      "outputs": [
        {
          "output_type": "stream",
          "name": "stdout",
          "text": [
            "Nc yhn\n",
            "nohtyP eciN\n"
          ]
        }
      ]
    },
    {
      "cell_type": "markdown",
      "source": [
        "### 아스키 코드 (또는 유니코드)"
      ],
      "metadata": {
        "id": "EnSceB0PQXkR"
      }
    },
    {
      "cell_type": "code",
      "source": [
        "a = 'z'\n",
        "\n",
        "# 아스키 코드로\n",
        "print(ord(a))"
      ],
      "metadata": {
        "colab": {
          "base_uri": "https://localhost:8080/"
        },
        "id": "0MvyA9OIQWwI",
        "outputId": "6d17c6fc-e85a-49f7-b415-23b99c4633ab"
      },
      "execution_count": 25,
      "outputs": [
        {
          "output_type": "stream",
          "name": "stdout",
          "text": [
            "122\n"
          ]
        }
      ]
    },
    {
      "cell_type": "code",
      "source": [
        "# 문자로\n",
        "print(chr(122))"
      ],
      "metadata": {
        "colab": {
          "base_uri": "https://localhost:8080/"
        },
        "id": "1CaQ_ZFpQmJ9",
        "outputId": "35d08c56-9a2b-4366-a415-395180df2e90"
      },
      "execution_count": 26,
      "outputs": [
        {
          "output_type": "stream",
          "name": "stdout",
          "text": [
            "z\n"
          ]
        }
      ]
    },
    {
      "cell_type": "markdown",
      "source": [
        "# 3) 리스트(List)"
      ],
      "metadata": {
        "id": "fBK4ChC8Q6Rg"
      }
    },
    {
      "cell_type": "markdown",
      "source": [
        "## 리스트(3-1) : 집합 구조의 첫 걸음은 리스트 자료형\n",
        "자료 구조에서 중요\n",
        "\n",
        "리스트 자료형(순서O, 중복O, 수정O, 삭제O)"
      ],
      "metadata": {
        "id": "Ioqw_aU5RJvr"
      }
    },
    {
      "cell_type": "code",
      "source": [
        "# 선언\n",
        "a = []\n",
        "b = list()\n",
        "c = [70, 75, 80, 85]\n",
        "d = [1000, 10000, 'Ace', 'Base', 'Captine']\n",
        "e = [1000, 10000, ['Ace', 'Base', 'Captine']]\n",
        "f = [21.42, 'footbar', 3, 4, False, 3.14159]"
      ],
      "metadata": {
        "id": "xcPPbsA3QrlB"
      },
      "execution_count": 28,
      "outputs": []
    },
    {
      "cell_type": "code",
      "source": [
        "# 인덱싱\n",
        "print('d - ', type(d), d)\n",
        "print('d - ', d[1])\n",
        "print('d - ', d[0] + d[1] + d[1])\n",
        "print('d - ', d[-1])\n",
        "print('e - ', e[-1][1])\n",
        "print('e - ', list(e[-1][1]))"
      ],
      "metadata": {
        "colab": {
          "base_uri": "https://localhost:8080/"
        },
        "id": "Ops7hxemVbmb",
        "outputId": "25827e8b-d239-470b-ec89-34a4b3d77ee9"
      },
      "execution_count": 30,
      "outputs": [
        {
          "output_type": "stream",
          "name": "stdout",
          "text": [
            "d -  <class 'list'> [1000, 10000, 'Ace', 'Base', 'Captine']\n",
            "d -  10000\n",
            "d -  21000\n",
            "d -  Captine\n",
            "e -  Base\n",
            "e -  ['B', 'a', 's', 'e']\n"
          ]
        }
      ]
    },
    {
      "cell_type": "code",
      "source": [
        "# 슬라이싱\n",
        "print('d - ', d[0:3])\n",
        "print('d - ', d[2:])\n",
        "print('e - ', e[-1][1:3])"
      ],
      "metadata": {
        "colab": {
          "base_uri": "https://localhost:8080/"
        },
        "id": "PwsFC6GFWDPU",
        "outputId": "5ca60d58-d26b-4567-9e1c-30dfcc61325f"
      },
      "execution_count": 31,
      "outputs": [
        {
          "output_type": "stream",
          "name": "stdout",
          "text": [
            "d -  [1000, 10000, 'Ace']\n",
            "d -  ['Ace', 'Base', 'Captine']\n",
            "e -  ['Base', 'Captine']\n"
          ]
        }
      ]
    },
    {
      "cell_type": "code",
      "source": [
        "# 리스트 연산 : 리스트 연산하면 리스트가 나온다\n",
        "print('c + d', c + d)\n",
        "print('c * 3', c * 3)\n",
        "print(\"'Test' + c[0]\", 'Test' + str(c[0]))"
      ],
      "metadata": {
        "colab": {
          "base_uri": "https://localhost:8080/"
        },
        "id": "o_HitC5dXB05",
        "outputId": "4be798f9-0b36-496b-e290-9b43718e51b3"
      },
      "execution_count": 32,
      "outputs": [
        {
          "output_type": "stream",
          "name": "stdout",
          "text": [
            "c + d [70, 75, 80, 85, 1000, 10000, 'Ace', 'Base', 'Captine']\n",
            "c * 3 [70, 75, 80, 85, 70, 75, 80, 85, 70, 75, 80, 85]\n",
            "'Test' + c[0] Test70\n"
          ]
        }
      ]
    },
    {
      "cell_type": "markdown",
      "source": [
        "## 리스트(3-2)"
      ],
      "metadata": {
        "id": "Q3F3q7vjXpFT"
      }
    },
    {
      "cell_type": "code",
      "source": [
        "# 값 비교\n",
        "print(c == c[:3] + c[3:])"
      ],
      "metadata": {
        "colab": {
          "base_uri": "https://localhost:8080/"
        },
        "id": "MMj1eNq0XoRR",
        "outputId": "ca9a34be-988d-4e45-de03-759025032032"
      },
      "execution_count": 33,
      "outputs": [
        {
          "output_type": "stream",
          "name": "stdout",
          "text": [
            "True\n"
          ]
        }
      ]
    },
    {
      "cell_type": "code",
      "source": [
        "# Identity(id) : 집주소\n",
        "temp = c\n",
        "print(temp, c)\n",
        "print(id(temp))\n",
        "print(id(c))"
      ],
      "metadata": {
        "colab": {
          "base_uri": "https://localhost:8080/"
        },
        "id": "jeN2HzOPfpyj",
        "outputId": "e4b79dd4-052a-45a6-b016-7137aada1137"
      },
      "execution_count": 35,
      "outputs": [
        {
          "output_type": "stream",
          "name": "stdout",
          "text": [
            "[70, 75, 80, 85] [70, 75, 80, 85]\n",
            "136090633157760\n",
            "136090633157760\n"
          ]
        }
      ]
    },
    {
      "cell_type": "markdown",
      "source": [
        "### 리스트 수정, 삭제"
      ],
      "metadata": {
        "id": "afIVtlgagHxM"
      }
    },
    {
      "cell_type": "code",
      "source": [
        "c[0] = 4\n",
        "print('c - ', c)      # 바로 수정이 됨"
      ],
      "metadata": {
        "colab": {
          "base_uri": "https://localhost:8080/"
        },
        "id": "H4z-0YQTfv04",
        "outputId": "bb0c4818-879a-4955-af02-a5d165ca7759"
      },
      "execution_count": 36,
      "outputs": [
        {
          "output_type": "stream",
          "name": "stdout",
          "text": [
            "c -  [4, 75, 80, 85]\n"
          ]
        }
      ]
    },
    {
      "cell_type": "code",
      "source": [
        "# 수정\n",
        "c[1:2] = ['a', 'b', 'c']      # [['a', 'b', 'c']]\n",
        "print('c - ', c)      # 75 대신에 위 문자들이 들어가는데, 리스트 형태로 들어가는 것이 아닌, 각 원소들이 들어감\n",
        "\n",
        "c[1] = ['a', 'b', 'c']\n",
        "print('c - ', c)      # 리스트 형태로 들어감\n",
        "\n",
        "c[1:3] = []       # 위 부분이 삭제"
      ],
      "metadata": {
        "id": "9iGCFWiQgPAf"
      },
      "execution_count": null,
      "outputs": []
    },
    {
      "cell_type": "code",
      "source": [
        "# 삭제\n",
        "del c[2]\n",
        "print('c - ', c)"
      ],
      "metadata": {
        "id": "pybECjT5g_Jk"
      },
      "execution_count": null,
      "outputs": []
    },
    {
      "cell_type": "markdown",
      "source": [
        "### 리스트 함수"
      ],
      "metadata": {
        "id": "S6GCdlO0hIs_"
      }
    },
    {
      "cell_type": "code",
      "source": [
        "a = [5, 2, 3, 1, 4]\n",
        "print('a - ', a)"
      ],
      "metadata": {
        "colab": {
          "base_uri": "https://localhost:8080/"
        },
        "id": "QETJISRIhGAu",
        "outputId": "3afe1e9b-a5dd-4e7e-ddcb-07126bdcbb2a"
      },
      "execution_count": 37,
      "outputs": [
        {
          "output_type": "stream",
          "name": "stdout",
          "text": [
            "a -  [5, 2, 3, 1, 4]\n"
          ]
        }
      ]
    },
    {
      "cell_type": "code",
      "source": [
        "# 끝에 추가\n",
        "a.append(10)\n",
        "print('a - ', a)"
      ],
      "metadata": {
        "colab": {
          "base_uri": "https://localhost:8080/"
        },
        "id": "1mWMuVDphOtU",
        "outputId": "0c8b40d8-f204-47ec-955d-95b2ceecaf95"
      },
      "execution_count": 38,
      "outputs": [
        {
          "output_type": "stream",
          "name": "stdout",
          "text": [
            "a -  [5, 2, 3, 1, 4, 10]\n"
          ]
        }
      ]
    },
    {
      "cell_type": "code",
      "source": [
        "# 정렬\n",
        "a.sort()\n",
        "print('a - ', a)"
      ],
      "metadata": {
        "colab": {
          "base_uri": "https://localhost:8080/"
        },
        "id": "VIYYdUWrhdMr",
        "outputId": "3d8e8fd6-285c-461f-c48c-201a2890a8e0"
      },
      "execution_count": 40,
      "outputs": [
        {
          "output_type": "stream",
          "name": "stdout",
          "text": [
            "a -  [1, 2, 3, 4, 5, 10]\n"
          ]
        }
      ]
    },
    {
      "cell_type": "code",
      "source": [
        "# 역순 정렬\n",
        "a.reverse()\n",
        "print('a - ', a)"
      ],
      "metadata": {
        "colab": {
          "base_uri": "https://localhost:8080/"
        },
        "id": "Tch2W3B9hj5-",
        "outputId": "bef9fb18-1c8c-4fc4-a8cf-e826f54f66d2"
      },
      "execution_count": 44,
      "outputs": [
        {
          "output_type": "stream",
          "name": "stdout",
          "text": [
            "a -  [1, 2, 3, 4, 7, 5, 10]\n"
          ]
        }
      ]
    },
    {
      "cell_type": "markdown",
      "source": [
        "✋ 중간에 삽입 코드를 진행한 후, 다시 reverse를 했을 때, 왜 5가 7보다 뒤에 있을까?"
      ],
      "metadata": {
        "id": "ivdyb-J5iz-i"
      }
    },
    {
      "cell_type": "code",
      "source": [
        "# 인덱스 조회\n",
        "print('a - ', a.index(3), a[3])     # 동일한 결과"
      ],
      "metadata": {
        "colab": {
          "base_uri": "https://localhost:8080/"
        },
        "id": "z2IHPJJVhr7-",
        "outputId": "47626936-9e66-4d57-ac70-2873fc8e1984"
      },
      "execution_count": 42,
      "outputs": [
        {
          "output_type": "stream",
          "name": "stdout",
          "text": [
            "a -  3 3\n"
          ]
        }
      ]
    },
    {
      "cell_type": "code",
      "source": [
        "# 중간에 삽입\n",
        "a.insert(2, 7)      # a 위치에 b를 넣을거임\n",
        "print('a - ', a)"
      ],
      "metadata": {
        "colab": {
          "base_uri": "https://localhost:8080/"
        },
        "id": "JKQ2j6IUh939",
        "outputId": "6843d99c-086d-4a95-f871-0dc50dca1f8d"
      },
      "execution_count": 43,
      "outputs": [
        {
          "output_type": "stream",
          "name": "stdout",
          "text": [
            "a -  [10, 5, 7, 4, 3, 2, 1]\n"
          ]
        }
      ]
    },
    {
      "cell_type": "code",
      "source": [
        "# 제거 : 데이터의 규모가 크면 del 로 제거하는게 어려움\n",
        "a.remove(10)\n",
        "print('a - ', a)"
      ],
      "metadata": {
        "colab": {
          "base_uri": "https://localhost:8080/"
        },
        "id": "KxBC_gPPik3M",
        "outputId": "d0775a30-3c61-4701-d61d-46645d8c77a0"
      },
      "execution_count": 45,
      "outputs": [
        {
          "output_type": "stream",
          "name": "stdout",
          "text": [
            "a -  [1, 2, 3, 4, 7, 5]\n"
          ]
        }
      ]
    },
    {
      "cell_type": "code",
      "source": [
        "# 마지막 원소를 꺼내오고, 리스트에서는 해당 원소를 삭제 -> 자료구조에서 많이 씀\n",
        "print('a - ', a.pop())\n",
        "print('a - ', a)"
      ],
      "metadata": {
        "colab": {
          "base_uri": "https://localhost:8080/"
        },
        "id": "aJsTma-miIo8",
        "outputId": "ae1dfafe-721d-47d8-de5a-bc43bf0aacd4"
      },
      "execution_count": 47,
      "outputs": [
        {
          "output_type": "stream",
          "name": "stdout",
          "text": [
            "a -  7\n",
            "a -  [1, 2, 3, 4]\n"
          ]
        }
      ]
    },
    {
      "cell_type": "code",
      "source": [
        "# 특정 원소값의 갯수가 몇개인지 (존재/중복 여부 파악)\n",
        "print('a - ', a.count(4))"
      ],
      "metadata": {
        "colab": {
          "base_uri": "https://localhost:8080/"
        },
        "id": "UzpdBWPAi-5e",
        "outputId": "10f01a96-fa80-43bf-a84c-aae065257ba9"
      },
      "execution_count": 48,
      "outputs": [
        {
          "output_type": "stream",
          "name": "stdout",
          "text": [
            "a -  1\n"
          ]
        }
      ]
    },
    {
      "cell_type": "code",
      "source": [
        "# 뒤로 연장 (append랑 비슷)\n",
        "ex = [8, 9]\n",
        "a.extend(ex)\n",
        "print('a - ', a)"
      ],
      "metadata": {
        "colab": {
          "base_uri": "https://localhost:8080/"
        },
        "id": "hdlQ_L-CjXUg",
        "outputId": "7d651f07-0d9e-468d-a896-2581bd205e4a"
      },
      "execution_count": 49,
      "outputs": [
        {
          "output_type": "stream",
          "name": "stdout",
          "text": [
            "a -  [1, 2, 3, 4, 8, 9]\n"
          ]
        }
      ]
    },
    {
      "cell_type": "code",
      "source": [
        "# 삭제 : remove, pop, del"
      ],
      "metadata": {
        "id": "O_LQMUwmjwUN"
      },
      "execution_count": null,
      "outputs": []
    },
    {
      "cell_type": "code",
      "source": [
        "# 반복문 활용\n",
        "while a :\n",
        "  data = a.pop()\n",
        "  print(data)"
      ],
      "metadata": {
        "colab": {
          "base_uri": "https://localhost:8080/"
        },
        "id": "HNcryc3-kHs9",
        "outputId": "a8a9f618-0c79-4785-8a3d-35e49a834931"
      },
      "execution_count": 50,
      "outputs": [
        {
          "output_type": "stream",
          "name": "stdout",
          "text": [
            "9\n",
            "8\n",
            "4\n",
            "3\n",
            "2\n",
            "1\n"
          ]
        }
      ]
    },
    {
      "cell_type": "markdown",
      "source": [
        "# 4) 튜플"
      ],
      "metadata": {
        "id": "A1scoV6GX9va"
      }
    },
    {
      "cell_type": "markdown",
      "source": [
        "## 튜플(4-1) : 튜플은 리스트와 거의 비슷해요."
      ],
      "metadata": {
        "id": "V-jpPAPyYEcI"
      }
    },
    {
      "cell_type": "markdown",
      "source": [
        "리스트와 비교가 중요\n",
        "* 튜플 자료형(순서O, 중복O, 수정X, 삭제X)\n",
        "  * 한번 들어가면 불변\n",
        "  * 이러한 특징을 활용해야하는 곳에는 리스트 대신 튜플을 사용"
      ],
      "metadata": {
        "id": "7twoAfG0YN-W"
      }
    },
    {
      "cell_type": "code",
      "source": [
        "# 선언\n",
        "a = ()\n",
        "b = (1)       # 한개일 때는 컴마를 찍지 않으면, int값으로 인지\n",
        "b = (1,)\n",
        "c = (11, 12, 13, 14)\n",
        "d = (100, 1000, 'Ace', 'Base', 'Captine')\n",
        "e = (100, 1000, ('Ace', 'Base', 'Captine'))\n",
        "print(type(a), type(b))"
      ],
      "metadata": {
        "colab": {
          "base_uri": "https://localhost:8080/"
        },
        "id": "RjY7r3S7kTJA",
        "outputId": "029dd5d3-1604-4d46-d657-5721f9de8903"
      },
      "execution_count": 1,
      "outputs": [
        {
          "output_type": "stream",
          "name": "stdout",
          "text": [
            "<class 'tuple'> <class 'tuple'>\n"
          ]
        }
      ]
    },
    {
      "cell_type": "code",
      "source": [
        "# 인덱싱\n",
        "print('d - ', d[1])\n",
        "print('d - ', d[0] + d[1] + d[1])     # 계산도 가능\n",
        "print('d - ', e[-1])                  # 튜플이 반환\n",
        "print('d - ', e[-1][1])\n",
        "print('d - ', list(e[-1][1]))         # 리스트로 형변환 : 튜플의 성질이 리스트로 변경됨. 즉 수정 삭제 가능"
      ],
      "metadata": {
        "colab": {
          "base_uri": "https://localhost:8080/"
        },
        "id": "bldONnkHY4LI",
        "outputId": "b2af6336-4365-48c0-e27e-3a5aa167d5c4"
      },
      "execution_count": 2,
      "outputs": [
        {
          "output_type": "stream",
          "name": "stdout",
          "text": [
            "d -  1000\n",
            "d -  2100\n",
            "d -  ('Ace', 'Base', 'Captine')\n",
            "d -  Base\n",
            "d -  ['B', 'a', 's', 'e']\n"
          ]
        }
      ]
    },
    {
      "cell_type": "code",
      "source": [
        "# 수정X\n",
        "d[0] = 1500"
      ],
      "metadata": {
        "colab": {
          "base_uri": "https://localhost:8080/",
          "height": 203
        },
        "id": "xYOp71aSZWn5",
        "outputId": "6191d4e6-d49f-4cb0-e84e-a712f9722c4a"
      },
      "execution_count": 3,
      "outputs": [
        {
          "output_type": "error",
          "ename": "TypeError",
          "evalue": "ignored",
          "traceback": [
            "\u001b[0;31m---------------------------------------------------------------------------\u001b[0m",
            "\u001b[0;31mTypeError\u001b[0m                                 Traceback (most recent call last)",
            "\u001b[0;32m<ipython-input-3-6873618ccfe7>\u001b[0m in \u001b[0;36m<cell line: 2>\u001b[0;34m()\u001b[0m\n\u001b[1;32m      1\u001b[0m \u001b[0;31m# 수정X\u001b[0m\u001b[0;34m\u001b[0m\u001b[0;34m\u001b[0m\u001b[0m\n\u001b[0;32m----> 2\u001b[0;31m \u001b[0md\u001b[0m\u001b[0;34m[\u001b[0m\u001b[0;36m0\u001b[0m\u001b[0;34m]\u001b[0m \u001b[0;34m=\u001b[0m \u001b[0;36m1500\u001b[0m\u001b[0;34m\u001b[0m\u001b[0;34m\u001b[0m\u001b[0m\n\u001b[0m",
            "\u001b[0;31mTypeError\u001b[0m: 'tuple' object does not support item assignment"
          ]
        }
      ]
    },
    {
      "cell_type": "code",
      "source": [
        "# 슬라이싱\n",
        "print('d - ', d[0:3])\n",
        "print('d - ', d[2:])\n",
        "print('d - ', e[2][1:3])"
      ],
      "metadata": {
        "colab": {
          "base_uri": "https://localhost:8080/"
        },
        "id": "1IzSt1oiZaWo",
        "outputId": "f852cd94-ab83-472a-dcf7-5e7adb78c845"
      },
      "execution_count": 4,
      "outputs": [
        {
          "output_type": "stream",
          "name": "stdout",
          "text": [
            "d -  (100, 1000, 'Ace')\n",
            "d -  ('Ace', 'Base', 'Captine')\n",
            "d -  ('Base', 'Captine')\n"
          ]
        }
      ]
    },
    {
      "cell_type": "code",
      "source": [
        "# 튜플 연산\n",
        "print('c + d', c + d)\n",
        "print('c * 3', c * 3)"
      ],
      "metadata": {
        "colab": {
          "base_uri": "https://localhost:8080/"
        },
        "id": "yRk2NtmKZsnc",
        "outputId": "2a38a422-1827-44ff-ab5d-5d85e750f58f"
      },
      "execution_count": 5,
      "outputs": [
        {
          "output_type": "stream",
          "name": "stdout",
          "text": [
            "c + d (11, 12, 13, 14, 100, 1000, 'Ace', 'Base', 'Captine')\n",
            "c * 3 (11, 12, 13, 14, 11, 12, 13, 14, 11, 12, 13, 14)\n"
          ]
        }
      ]
    },
    {
      "cell_type": "markdown",
      "source": [
        "### 튜플 함수"
      ],
      "metadata": {
        "id": "n10_4aILaPlQ"
      }
    },
    {
      "cell_type": "code",
      "source": [
        "a = (5, 2, 3, 1, 4)\n",
        "print('a - ', a)"
      ],
      "metadata": {
        "colab": {
          "base_uri": "https://localhost:8080/"
        },
        "id": "uDdY3w2qZ4MZ",
        "outputId": "ff26e9cb-8352-480d-984a-562021c213c8"
      },
      "execution_count": 6,
      "outputs": [
        {
          "output_type": "stream",
          "name": "stdout",
          "text": [
            "a -  (5, 2, 3, 1, 4)\n"
          ]
        }
      ]
    },
    {
      "cell_type": "code",
      "source": [
        "print('a - ', a.index(3))\n",
        "\n",
        "print('a - ', a.count(2))"
      ],
      "metadata": {
        "colab": {
          "base_uri": "https://localhost:8080/"
        },
        "id": "-qxAuS-8aBE2",
        "outputId": "56d6f09e-fb2e-4dd5-8d3e-269d5ad3ac57"
      },
      "execution_count": 7,
      "outputs": [
        {
          "output_type": "stream",
          "name": "stdout",
          "text": [
            "a -  2\n",
            "a -  1\n"
          ]
        }
      ]
    },
    {
      "cell_type": "markdown",
      "source": [
        "### 팩킹 & 언팩킹(Packing and Unpacking)"
      ],
      "metadata": {
        "id": "ZO-IkA6laMsB"
      }
    },
    {
      "cell_type": "code",
      "source": [
        "# 팩킹 : 하나로 묶다 = 튜플을 선언\n",
        "t = ('foo', 'bar', 'baz', 'qux')\n",
        "print(t)\n",
        "print(t[0])"
      ],
      "metadata": {
        "colab": {
          "base_uri": "https://localhost:8080/"
        },
        "id": "ickGDECRaFlI",
        "outputId": "46cf6104-393a-4e40-db6a-73bc80f38b27"
      },
      "execution_count": 8,
      "outputs": [
        {
          "output_type": "stream",
          "name": "stdout",
          "text": [
            "('foo', 'bar', 'baz', 'qux')\n",
            "foo\n"
          ]
        }
      ]
    },
    {
      "cell_type": "code",
      "source": [
        "# 언팩킹1 : 각각을 할당\n",
        "(x1, x2, x3, x4) = t          # 괄호가 없어도 언팩킹은 됨\n",
        "print(type(x1), type(x2), type(x3), type(x4))\n",
        "print(x1, x2, x3, x4)"
      ],
      "metadata": {
        "colab": {
          "base_uri": "https://localhost:8080/"
        },
        "id": "Wv0fwCAgafPn",
        "outputId": "216010ed-7136-4a86-d405-5cad2d2337f7"
      },
      "execution_count": 9,
      "outputs": [
        {
          "output_type": "stream",
          "name": "stdout",
          "text": [
            "<class 'str'> <class 'str'> <class 'str'> <class 'str'>\n",
            "foo bar baz qux\n"
          ]
        }
      ]
    },
    {
      "cell_type": "code",
      "source": [
        "# 팩킹 & 언팩킹\n",
        "t2 = 1, 2, 3                # 팩킹\n",
        "t3 = 4,                     # 팩킹\n",
        "\n",
        "x1, x2, x3 = t2             # 언팩킹\n",
        "x4, x5, x6 = 4, 5, 6        # 언팩킹"
      ],
      "metadata": {
        "id": "duj0NSt9apQh"
      },
      "execution_count": 10,
      "outputs": []
    },
    {
      "cell_type": "markdown",
      "source": [
        "# 5) 딕셔너리"
      ],
      "metadata": {
        "id": "MZVgjURDbZ8r"
      }
    },
    {
      "cell_type": "markdown",
      "source": [
        "## 딕셔너리(5-1) : 딕셔너리는 유용하게 자주 사용해요.\n",
        "* 범용적으로 가장 많이 사용\n",
        "* 딕셔너리 자료형 (순서X, 키 중복X, 수정O, 삭제O)"
      ],
      "metadata": {
        "id": "Y1-Ov9Yfbdwl"
      }
    },
    {
      "cell_type": "code",
      "source": [
        "# 선언 : 방법이 다양\n",
        "a = {'name' : 'Kim', 'phone' : '0103337777', 'birth' : '870514'}      # key : value / key는 숫자형도 가능함\n",
        "b = {0 : 'Hello Python'}\n",
        "c = {'arr' : [1,2,3,4]}\n",
        "d = {\n",
        "    'Name' : 'Niceman',\n",
        "    'City' : 'Seoul',\n",
        "    'Age' : 33,\n",
        "    'Grade' : 'A',\n",
        "    'Status' : True\n",
        "}\n",
        "e = dict([\n",
        "    ('Name', 'Niceman'),\n",
        "    ('City', 'Seoul')\n",
        "])\n",
        "f = dict(\n",
        "    Name = 'Niceman',\n",
        "    City = 'Seoul',\n",
        "    Age = 33,\n",
        "    Grade = 'A',\n",
        "    Status = True\n",
        ")"
      ],
      "metadata": {
        "id": "NpxkA2L-bOhM"
      },
      "execution_count": 11,
      "outputs": []
    },
    {
      "cell_type": "code",
      "source": [
        "# 출력\n",
        "print('a - ', type(a), a)"
      ],
      "metadata": {
        "colab": {
          "base_uri": "https://localhost:8080/"
        },
        "id": "kB1-dkR6fE-N",
        "outputId": "b0ef9dbe-01d6-4d8d-bdd0-47a117e27b0f"
      },
      "execution_count": 12,
      "outputs": [
        {
          "output_type": "stream",
          "name": "stdout",
          "text": [
            "a -  <class 'dict'> {'name': 'Kim', 'phone': '0103337777', 'birth': '870514'}\n"
          ]
        }
      ]
    },
    {
      "cell_type": "code",
      "source": [
        "# 출력\n",
        "print('a - ', a['name'])\n",
        "print('a - ', a.get('name'))\n",
        "\n",
        "#print('a - ', a['name1'])           # erorr!\n",
        "print('a - ', a.get('name1'))       # None -> 프로그램의 흐름이 끊기지 않기 때문에, get을 더 많이 씀"
      ],
      "metadata": {
        "colab": {
          "base_uri": "https://localhost:8080/"
        },
        "id": "f0qXns8xfLNP",
        "outputId": "8a0bc268-0125-4dd1-b547-109d8473c358"
      },
      "execution_count": 13,
      "outputs": [
        {
          "output_type": "stream",
          "name": "stdout",
          "text": [
            "a -  Kim\n",
            "a -  Kim\n",
            "a -  None\n"
          ]
        }
      ]
    },
    {
      "cell_type": "code",
      "source": [
        "print('b - ', b[0])\n",
        "print('b - ', b.get(0))"
      ],
      "metadata": {
        "colab": {
          "base_uri": "https://localhost:8080/"
        },
        "id": "CXTv9ITVf0eV",
        "outputId": "65377460-b04a-4f08-c719-10764e7855a6"
      },
      "execution_count": 14,
      "outputs": [
        {
          "output_type": "stream",
          "name": "stdout",
          "text": [
            "b -  Hello Python\n",
            "b -  Hello Python\n"
          ]
        }
      ]
    },
    {
      "cell_type": "code",
      "source": [
        "print('f - ', f.get('City'))"
      ],
      "metadata": {
        "colab": {
          "base_uri": "https://localhost:8080/"
        },
        "id": "vAyWPgTCf9Hv",
        "outputId": "f0fe51fa-fa64-49a1-a5e2-390485eb5229"
      },
      "execution_count": 15,
      "outputs": [
        {
          "output_type": "stream",
          "name": "stdout",
          "text": [
            "f -  Seoul\n"
          ]
        }
      ]
    },
    {
      "cell_type": "markdown",
      "source": [
        "## 딕셔너리(5-2)"
      ],
      "metadata": {
        "id": "0ZNn5DyDgJWf"
      }
    },
    {
      "cell_type": "code",
      "source": [
        "# 추가\n",
        "a['address'] = 'Seoul'\n",
        "print('a - ', a)\n",
        "\n",
        "a['rank'] = [1,2,3]\n",
        "print('a - ', a)"
      ],
      "metadata": {
        "colab": {
          "base_uri": "https://localhost:8080/"
        },
        "id": "LftgglT8gImE",
        "outputId": "b9ac72e5-d58e-4fb6-a95b-34970a8eada8"
      },
      "execution_count": 18,
      "outputs": [
        {
          "output_type": "stream",
          "name": "stdout",
          "text": [
            "a -  {'name': 'Kim', 'phone': '0103337777', 'birth': '870514', 'adress': 'Seoul', 'address': 'Seoul'}\n",
            "a -  {'name': 'Kim', 'phone': '0103337777', 'birth': '870514', 'adress': 'Seoul', 'address': 'Seoul', 'rank': [1, 2, 3]}\n"
          ]
        }
      ]
    },
    {
      "cell_type": "code",
      "source": [
        "# key의 길이\n",
        "print('a - ', len(a))"
      ],
      "metadata": {
        "colab": {
          "base_uri": "https://localhost:8080/"
        },
        "id": "l_q8x_zLgWP0",
        "outputId": "4ba367ec-e56c-459a-cdb1-45b69152dfd5"
      },
      "execution_count": 19,
      "outputs": [
        {
          "output_type": "stream",
          "name": "stdout",
          "text": [
            "a -  6\n"
          ]
        }
      ]
    },
    {
      "cell_type": "markdown",
      "source": [
        "### 함수\n",
        "* dict_keys, dict_values, dict_items : 반복문(__iter__)에서 사용 가능"
      ],
      "metadata": {
        "id": "ZpysyZLigsQX"
      }
    },
    {
      "cell_type": "code",
      "source": [
        "print('a - ', a.keys())\n",
        "print('b - ', b.keys())\n",
        "print('c - ', c.keys())\n",
        "print('d - ', d.keys())"
      ],
      "metadata": {
        "colab": {
          "base_uri": "https://localhost:8080/"
        },
        "id": "tkoIxG9Ggo2P",
        "outputId": "cd9ac57b-249b-4ef9-a4e3-a12db9895b6a"
      },
      "execution_count": 20,
      "outputs": [
        {
          "output_type": "stream",
          "name": "stdout",
          "text": [
            "a -  dict_keys(['name', 'phone', 'birth', 'adress', 'address', 'rank'])\n",
            "b -  dict_keys([0])\n",
            "c -  dict_keys(['arr'])\n",
            "d -  dict_keys(['Name', 'City', 'Age', 'Grade', 'Status'])\n"
          ]
        }
      ]
    },
    {
      "cell_type": "code",
      "source": [
        "print('a - ', list(a.keys()))       # 형변환"
      ],
      "metadata": {
        "colab": {
          "base_uri": "https://localhost:8080/"
        },
        "id": "HkasUlJQhBDO",
        "outputId": "1e11d8e0-b184-4b7b-b0b7-f28ab49dd8e0"
      },
      "execution_count": 21,
      "outputs": [
        {
          "output_type": "stream",
          "name": "stdout",
          "text": [
            "a -  ['name', 'phone', 'birth', 'adress', 'address', 'rank']\n"
          ]
        }
      ]
    },
    {
      "cell_type": "code",
      "source": [
        "print('a - ', a.values())\n",
        "print('b - ', b.values())\n",
        "print('c - ', c.values())"
      ],
      "metadata": {
        "colab": {
          "base_uri": "https://localhost:8080/"
        },
        "id": "yZKByuo_hHB8",
        "outputId": "2d7c5b75-6c84-4757-d6b3-7f7f1e6074be"
      },
      "execution_count": 22,
      "outputs": [
        {
          "output_type": "stream",
          "name": "stdout",
          "text": [
            "a -  dict_values(['Kim', '0103337777', '870514', 'Seoul', 'Seoul', [1, 2, 3]])\n",
            "b -  dict_values(['Hello Python'])\n",
            "c -  dict_values([[1, 2, 3, 4]])\n"
          ]
        }
      ]
    },
    {
      "cell_type": "code",
      "source": [
        "print('a - ', list(a.values()))       # 형변환"
      ],
      "metadata": {
        "colab": {
          "base_uri": "https://localhost:8080/"
        },
        "id": "QjZY4TTghNeY",
        "outputId": "54987113-ece8-4fa9-f10f-8dd30a1b5c1a"
      },
      "execution_count": 23,
      "outputs": [
        {
          "output_type": "stream",
          "name": "stdout",
          "text": [
            "a -  ['Kim', '0103337777', '870514', 'Seoul', 'Seoul', [1, 2, 3]]\n"
          ]
        }
      ]
    },
    {
      "cell_type": "code",
      "source": [
        "# e 형태로 선언한 형태로 출력 / tuple 형태!\n",
        "print('a - ', a.items())\n",
        "print('b - ', b.items())\n",
        "print('c - ', c.items())"
      ],
      "metadata": {
        "colab": {
          "base_uri": "https://localhost:8080/"
        },
        "id": "lYfejE1GhP52",
        "outputId": "9f506942-3252-4954-b95e-f8abb9fb31e0"
      },
      "execution_count": 24,
      "outputs": [
        {
          "output_type": "stream",
          "name": "stdout",
          "text": [
            "a -  dict_items([('name', 'Kim'), ('phone', '0103337777'), ('birth', '870514'), ('adress', 'Seoul'), ('address', 'Seoul'), ('rank', [1, 2, 3])])\n",
            "b -  dict_items([(0, 'Hello Python')])\n",
            "c -  dict_items([('arr', [1, 2, 3, 4])])\n"
          ]
        }
      ]
    },
    {
      "cell_type": "code",
      "source": [
        "# pop\n",
        "print('a - ', a.pop('adress'))\n",
        "print('a - ', a)"
      ],
      "metadata": {
        "colab": {
          "base_uri": "https://localhost:8080/"
        },
        "id": "RQqpkMNXhVAa",
        "outputId": "6df0208a-75c5-4930-a922-dfa7cccf83a6"
      },
      "execution_count": 25,
      "outputs": [
        {
          "output_type": "stream",
          "name": "stdout",
          "text": [
            "a -  Seoul\n",
            "a -  {'name': 'Kim', 'phone': '0103337777', 'birth': '870514', 'address': 'Seoul', 'rank': [1, 2, 3]}\n"
          ]
        }
      ]
    },
    {
      "cell_type": "code",
      "source": [
        "# popitem : 임의로 빼기 (추첨기처럼 랜덤으로 뭔가 뽑을 때)\n",
        "print('f - ', f.popitem())\n",
        "print('f - ', c)"
      ],
      "metadata": {
        "colab": {
          "base_uri": "https://localhost:8080/"
        },
        "id": "u8NCB5W5hrWT",
        "outputId": "1bad1417-5fe7-4d22-def7-2e6883da56a5"
      },
      "execution_count": 26,
      "outputs": [
        {
          "output_type": "stream",
          "name": "stdout",
          "text": [
            "f -  ('Status', True)\n",
            "f -  {'arr': [1, 2, 3, 4]}\n"
          ]
        }
      ]
    },
    {
      "cell_type": "code",
      "source": [
        "# key가 dict에 있는지\n",
        "print('a - ', 'birth' in a)\n",
        "print('a - ', 'birth2' in a)"
      ],
      "metadata": {
        "colab": {
          "base_uri": "https://localhost:8080/"
        },
        "id": "zc-Bwb56iNjv",
        "outputId": "5173d348-3a30-4930-a0be-33ebab981c2a"
      },
      "execution_count": 27,
      "outputs": [
        {
          "output_type": "stream",
          "name": "stdout",
          "text": [
            "a -  True\n",
            "a -  False\n"
          ]
        }
      ]
    },
    {
      "cell_type": "markdown",
      "source": [
        "### 수정"
      ],
      "metadata": {
        "id": "DP8dvSakjE5R"
      }
    },
    {
      "cell_type": "code",
      "source": [
        "# 방법 1\n",
        "a['address'] = 'dj'\n",
        "print('a - ', a)\n",
        "\n",
        "# 방법 2\n",
        "a.update(birth='971013')\n",
        "\n",
        "# 방법 3\n",
        "temp = {'address' : 'Busan'}\n",
        "a.update(temp)"
      ],
      "metadata": {
        "colab": {
          "base_uri": "https://localhost:8080/"
        },
        "id": "SMMTk-eIiXPR",
        "outputId": "5d297f44-34cb-465c-a5fa-af51819856ae"
      },
      "execution_count": 28,
      "outputs": [
        {
          "output_type": "stream",
          "name": "stdout",
          "text": [
            "a -  {'name': 'Kim', 'phone': '0103337777', 'birth': '870514', 'address': 'dj', 'rank': [1, 2, 3]}\n"
          ]
        }
      ]
    },
    {
      "cell_type": "markdown",
      "source": [
        "# 6) 집합"
      ],
      "metadata": {
        "id": "bl0fQlFGjXIC"
      }
    },
    {
      "cell_type": "markdown",
      "source": [
        "## 집합(6-1) : 알고나면 강력한 집합 자료형"
      ],
      "metadata": {
        "id": "LtJl0jAVjZ1_"
      }
    },
    {
      "cell_type": "markdown",
      "source": [
        "집합(Set) 특징\n",
        "* 집합(Set) 자료형(순서X, 중복X)"
      ],
      "metadata": {
        "id": "aonaf0rOMmLX"
      }
    },
    {
      "cell_type": "code",
      "source": [
        "# 선언\n",
        "a = set()\n",
        "b = set([1, 2, 3, 4])\n",
        "c = set([1, 4, 5, 6])\n",
        "d = set([1, 2, 'Pen', 'Cap', 'Plate'])\n",
        "e = {'foo', 'bar', 'baz', 'foo'}          # 딕셔너리랑 혼동 조심\n",
        "f = {42, 'foo', (1, 2, 3), 3.14159}\n",
        "\n",
        "print('a - ', type(a), a)\n",
        "print('b - ', type(b), b)\n",
        "print('c - ', type(c), c)\n",
        "print('d - ', type(d), d)\n",
        "print('e - ', type(e), e)\n",
        "print('f - ', type(f), f)"
      ],
      "metadata": {
        "colab": {
          "base_uri": "https://localhost:8080/"
        },
        "id": "9hB3IIDojGZn",
        "outputId": "5d1084a3-1f17-4f0a-cfc2-f79879199a13"
      },
      "execution_count": 2,
      "outputs": [
        {
          "output_type": "stream",
          "name": "stdout",
          "text": [
            "a -  <class 'set'> set()\n",
            "b -  <class 'set'> {1, 2, 3, 4}\n",
            "c -  <class 'set'> {1, 4, 5, 6}\n",
            "d -  <class 'set'> {1, 2, 'Pen', 'Cap', 'Plate'}\n",
            "e -  <class 'set'> {'foo', 'bar', 'baz'}\n",
            "f -  <class 'set'> {42, 3.14159, 'foo', (1, 2, 3)}\n"
          ]
        }
      ]
    },
    {
      "cell_type": "code",
      "source": [
        "# 튜플 변환 (set -> tuple)\n",
        "t = tuple(b)\n",
        "print('t - ', type(t), t)\n",
        "print('t - ', t[0])         # 튜플이라 슬라이싱 가능"
      ],
      "metadata": {
        "colab": {
          "base_uri": "https://localhost:8080/"
        },
        "id": "0i8kd89dM1te",
        "outputId": "5b164d82-a65d-48dc-f5b8-cb831ae6641c"
      },
      "execution_count": 3,
      "outputs": [
        {
          "output_type": "stream",
          "name": "stdout",
          "text": [
            "t -  <class 'tuple'> (1, 2, 3, 4)\n",
            "t -  1\n"
          ]
        }
      ]
    },
    {
      "cell_type": "code",
      "source": [
        "# 리스트 변환 (set -> list)\n",
        "l1 = list(c)\n",
        "l2 = list(e)\n",
        "\n",
        "print('l - ', l1)\n",
        "print('l2 - ', l2)"
      ],
      "metadata": {
        "colab": {
          "base_uri": "https://localhost:8080/"
        },
        "id": "KU1xMdg1NyvB",
        "outputId": "a204c8f2-7a01-43be-c835-d36c4eb520e9"
      },
      "execution_count": 5,
      "outputs": [
        {
          "output_type": "stream",
          "name": "stdout",
          "text": [
            "l -  [1, 4, 5, 6]\n",
            "l2 -  ['foo', 'bar', 'baz']\n"
          ]
        }
      ]
    },
    {
      "cell_type": "code",
      "source": [
        "# 길이\n",
        "print(len(a))\n",
        "print(len(b))\n",
        "print(len(c))\n",
        "print(len(d))\n",
        "print(len(e))\n",
        "print(len(f))"
      ],
      "metadata": {
        "colab": {
          "base_uri": "https://localhost:8080/"
        },
        "id": "9EbQnYW1N-FY",
        "outputId": "7be9fe31-6bce-454e-f165-76c6b0fd56c7"
      },
      "execution_count": 6,
      "outputs": [
        {
          "output_type": "stream",
          "name": "stdout",
          "text": [
            "0\n",
            "4\n",
            "4\n",
            "5\n",
            "3\n",
            "4\n"
          ]
        }
      ]
    },
    {
      "cell_type": "code",
      "source": [
        "# 집합 자료형 활용\n",
        "s1 = set([1,2,3,4,5,6])\n",
        "s2 = set([4,5,6,7,8,9])\n",
        "\n",
        "# 교집합\n",
        "print('s1 & s2', s1 & s2)\n",
        "print('s1 & s2', s1.intersection(s2))\n",
        "\n",
        "# 합집합\n",
        "print('s1 | s2', s1 | s2)\n",
        "print('s1 | s2', s1.union(s2))\n",
        "\n",
        "# 차집합\n",
        "print('s1 - s2', s1 - s2)\n",
        "print('s1 - s2', s1.difference(s2))"
      ],
      "metadata": {
        "colab": {
          "base_uri": "https://localhost:8080/"
        },
        "id": "bM0S2fVYOOOS",
        "outputId": "fc2e744d-b9dd-4876-c322-b766909a2fd0"
      },
      "execution_count": 7,
      "outputs": [
        {
          "output_type": "stream",
          "name": "stdout",
          "text": [
            "s1 & s2 {4, 5, 6}\n",
            "s1 & s2 {4, 5, 6}\n",
            "s1 | s2 {1, 2, 3, 4, 5, 6, 7, 8, 9}\n",
            "s1 | s2 {1, 2, 3, 4, 5, 6, 7, 8, 9}\n",
            "s1 - s2 {1, 2, 3}\n",
            "s1 - s2 {1, 2, 3}\n"
          ]
        }
      ]
    },
    {
      "cell_type": "code",
      "source": [
        "# 중복 원소 확인\n",
        "print('s1 & s2', s1.isdisjoint(s2))         # False가 나올때 중복 원소가 있다는 뜻\n",
        "\n",
        "# 부분 집합 확인\n",
        "print('subset : ', s1.issubset(s2))\n",
        "print('superset : ', s1.issuperset(s2))"
      ],
      "metadata": {
        "colab": {
          "base_uri": "https://localhost:8080/"
        },
        "id": "iaqsRcloO0SX",
        "outputId": "93ebc4f6-6232-4747-cf04-02c7ccc76535"
      },
      "execution_count": 8,
      "outputs": [
        {
          "output_type": "stream",
          "name": "stdout",
          "text": [
            "s1 & s2 False\n",
            "subset :  False\n",
            "superset :  False\n"
          ]
        }
      ]
    },
    {
      "cell_type": "code",
      "source": [
        "# 추가 & 제거\n",
        "s1 = set([1, 2, 3, 4])\n",
        "\n",
        "s1.add(5)\n",
        "print('s1 - ', s1)"
      ],
      "metadata": {
        "colab": {
          "base_uri": "https://localhost:8080/"
        },
        "id": "62m-PNGSPoU6",
        "outputId": "b7bfbf4b-25dc-4979-baff-b512ae176a8e"
      },
      "execution_count": 9,
      "outputs": [
        {
          "output_type": "stream",
          "name": "stdout",
          "text": [
            "s1 -  {1, 2, 3, 4, 5}\n"
          ]
        }
      ]
    },
    {
      "cell_type": "code",
      "source": [
        "s1.remove(5)                  # 없는 원소를 지우면 예외(error) 발생 함!\n",
        "print('s1 - ', s1)\n",
        "\n",
        "s1.discard(3)                 # 없는 원소를 지우면 예외(error) 발생 안함\n",
        "print('s1 - ', s1)"
      ],
      "metadata": {
        "colab": {
          "base_uri": "https://localhost:8080/",
          "height": 258
        },
        "id": "SFhMpIvbPx-l",
        "outputId": "e73b5ba1-8f24-4901-f50b-9d829c51f2f8"
      },
      "execution_count": 11,
      "outputs": [
        {
          "output_type": "error",
          "ename": "KeyError",
          "evalue": "ignored",
          "traceback": [
            "\u001b[0;31m---------------------------------------------------------------------------\u001b[0m",
            "\u001b[0;31mKeyError\u001b[0m                                  Traceback (most recent call last)",
            "\u001b[0;32m<ipython-input-11-347daaa8bafe>\u001b[0m in \u001b[0;36m<cell line: 1>\u001b[0;34m()\u001b[0m\n\u001b[0;32m----> 1\u001b[0;31m \u001b[0ms1\u001b[0m\u001b[0;34m.\u001b[0m\u001b[0mremove\u001b[0m\u001b[0;34m(\u001b[0m\u001b[0;36m5\u001b[0m\u001b[0;34m)\u001b[0m                  \u001b[0;31m# 없는 원소를 지우면 예외(error) 발생 함!\u001b[0m\u001b[0;34m\u001b[0m\u001b[0;34m\u001b[0m\u001b[0m\n\u001b[0m\u001b[1;32m      2\u001b[0m \u001b[0mprint\u001b[0m\u001b[0;34m(\u001b[0m\u001b[0;34m's1 - '\u001b[0m\u001b[0;34m,\u001b[0m \u001b[0ms1\u001b[0m\u001b[0;34m)\u001b[0m\u001b[0;34m\u001b[0m\u001b[0;34m\u001b[0m\u001b[0m\n\u001b[1;32m      3\u001b[0m \u001b[0;34m\u001b[0m\u001b[0m\n\u001b[1;32m      4\u001b[0m \u001b[0ms1\u001b[0m\u001b[0;34m.\u001b[0m\u001b[0mdiscard\u001b[0m\u001b[0;34m(\u001b[0m\u001b[0;36m3\u001b[0m\u001b[0;34m)\u001b[0m                 \u001b[0;31m# 없는 원소를 지우면 예외(error) 발생 안함\u001b[0m\u001b[0;34m\u001b[0m\u001b[0;34m\u001b[0m\u001b[0m\n\u001b[1;32m      5\u001b[0m \u001b[0mprint\u001b[0m\u001b[0;34m(\u001b[0m\u001b[0;34m's1 - '\u001b[0m\u001b[0;34m,\u001b[0m \u001b[0ms1\u001b[0m\u001b[0;34m)\u001b[0m\u001b[0;34m\u001b[0m\u001b[0;34m\u001b[0m\u001b[0m\n",
            "\u001b[0;31mKeyError\u001b[0m: 5"
          ]
        }
      ]
    },
    {
      "cell_type": "code",
      "source": [
        "s1.clear()                  # 전부 삭제\n",
        "print(s1)"
      ],
      "metadata": {
        "colab": {
          "base_uri": "https://localhost:8080/"
        },
        "id": "LcQOKJYdP4lh",
        "outputId": "d8b4d970-cdde-470d-840f-17159df3076f"
      },
      "execution_count": 12,
      "outputs": [
        {
          "output_type": "stream",
          "name": "stdout",
          "text": [
            "set()\n"
          ]
        }
      ]
    },
    {
      "cell_type": "code",
      "source": [],
      "metadata": {
        "id": "0TUkdbWqQb6G"
      },
      "execution_count": null,
      "outputs": []
    }
  ]
}