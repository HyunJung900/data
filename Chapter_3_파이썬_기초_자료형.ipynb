{
  "nbformat": 4,
  "nbformat_minor": 0,
  "metadata": {
    "colab": {
      "provenance": [],
      "authorship_tag": "ABX9TyPntkeD7g8hbVFPb97vUyQ+",
      "include_colab_link": true
    },
    "kernelspec": {
      "name": "python3",
      "display_name": "Python 3"
    },
    "language_info": {
      "name": "python"
    }
  },
  "cells": [
    {
      "cell_type": "markdown",
      "metadata": {
        "id": "view-in-github",
        "colab_type": "text"
      },
      "source": [
        "<a href=\"https://colab.research.google.com/github/HyunJung900/data/blob/master/Chapter_3_%ED%8C%8C%EC%9D%B4%EC%8D%AC_%EA%B8%B0%EC%B4%88_%EC%9E%90%EB%A3%8C%ED%98%95.ipynb\" target=\"_parent\"><img src=\"https://colab.research.google.com/assets/colab-badge.svg\" alt=\"Open In Colab\"/></a>"
      ]
    },
    {
      "cell_type": "markdown",
      "source": [
        "# 1) 숫자형\n",
        "## 숫자형 사용법\n",
        "* 파이썬 모든 자료형\n",
        "* 데이터 타입 선언\n",
        "* 연산자 활용\n",
        "* 형 변환\n",
        "* 외부 모듈 사용"
      ],
      "metadata": {
        "id": "G1iOm2HRnhkB"
      }
    },
    {
      "cell_type": "markdown",
      "source": [
        "## 숫자형(1-1) : 계산의 기본은 숫자형"
      ],
      "metadata": {
        "id": "fnFIkTEMoDWU"
      }
    },
    {
      "cell_type": "markdown",
      "source": [
        "### 파이썬 지원 자료형\n",
        "* int : 정수\n",
        "* float : 실수\n",
        "* complex ; 복소수\n",
        "* bool : 불린\n",
        "* str : 문자열(시퀀스)\n",
        "* list : 리스트(시퀀스)\n",
        "* tuple : 튜플(시퀀스)\n",
        "* set : 집합\n",
        "* dict : 사전"
      ],
      "metadata": {
        "id": "tkuykJ-uoiDj"
      }
    },
    {
      "cell_type": "code",
      "execution_count": null,
      "metadata": {
        "id": "h7eOeoyVnduj"
      },
      "outputs": [],
      "source": [
        "str1 = \"Python\"\n",
        "bool1 = True\n",
        "str2 = 'Anaconda'\n",
        "float1 = 10.0                        # 10 == 10.0 은 다름! 타입이 다르기 때문\n",
        "int1 = 7\n",
        "list1 = [str1, str2]\n",
        "dict1 = {\n",
        "    \"name\" : \"Machine Learning\",\n",
        "    \"version\" : 2.0\n",
        "}                                   # key : value\n",
        "tuple1 = (7, 8, 9)                   # tuple = 7, 8, 9     <- 이것도 동일\n",
        "set1 = {7, 8, 9}"
      ]
    },
    {
      "cell_type": "code",
      "source": [
        "print(type(str1))\n",
        "print(type(bool1))\n",
        "print(type(str2))\n",
        "print(type(float1))\n",
        "print(type(int1))\n",
        "print(type(list1))\n",
        "print(type(dict1))\n",
        "print(type(tuple1))\n",
        "print(type(set1))"
      ],
      "metadata": {
        "colab": {
          "base_uri": "https://localhost:8080/"
        },
        "id": "eEW1Q7_npmiN",
        "outputId": "3f3a1f61-7ba2-4a73-ff1d-88c4e9bf9d81"
      },
      "execution_count": null,
      "outputs": [
        {
          "output_type": "stream",
          "name": "stdout",
          "text": [
            "<class 'str'>\n",
            "<class 'bool'>\n",
            "<class 'str'>\n",
            "<class 'float'>\n",
            "<class 'int'>\n",
            "<class 'list'>\n",
            "<class 'dict'>\n",
            "<class 'tuple'>\n",
            "<class 'set'>\n"
          ]
        }
      ]
    },
    {
      "cell_type": "markdown",
      "source": [
        "### 숫자형 연산자\n",
        "* +\n",
        "* -\n",
        "* *\n",
        "* /\n",
        "* // : 몫\n",
        "* % : 나머지\n",
        "* abs(x) : 절대값\n",
        "* pow(x, y) : x의 y 제곱 == x ** y\n",
        "\n",
        "+) 서로 다른 형끼리 계산을 하면 형 변환이 일어난다."
      ],
      "metadata": {
        "id": "E0CH7v9VqI6j"
      }
    },
    {
      "cell_type": "code",
      "source": [
        "# 정수\n",
        "i = 77\n",
        "i2 = -14\n",
        "big_int = 777777777777777777777777777777777777777779999999999999999999999999"
      ],
      "metadata": {
        "id": "MiBEcwL2pyG_"
      },
      "execution_count": null,
      "outputs": []
    },
    {
      "cell_type": "code",
      "source": [
        "# 실수\n",
        "f = 0.9999\n",
        "f2 = 3.141592\n",
        "f3 = -3.9\n",
        "f4 = 3 / 9"
      ],
      "metadata": {
        "id": "3jsq2V-nqsGU"
      },
      "execution_count": null,
      "outputs": []
    },
    {
      "cell_type": "code",
      "source": [
        "# 연산 실습\n",
        "i1 = 39\n",
        "i2 = 939\n",
        "big_int1 = 7777777777777777777777777777777777777777777999999999999999999923234\n",
        "big_int2 = 234534547634847839485729394859288178111111111222233333333333345555\n",
        "f1 = 1.234\n",
        "f2 = 3.939"
      ],
      "metadata": {
        "id": "e7Cs0Mu9q5ms"
      },
      "execution_count": null,
      "outputs": []
    },
    {
      "cell_type": "code",
      "source": [
        "# +\n",
        "print(\">>>>> +\")\n",
        "print(\"i1 + i2 : \", i1 + i2)\n",
        "print(\"f1 + f2 : \", f1 + f2)\n",
        "print(\"big_int1 + big_int2 : \", big_int1 + big_int2)"
      ],
      "metadata": {
        "colab": {
          "base_uri": "https://localhost:8080/"
        },
        "id": "lGua3GTerLop",
        "outputId": "22fa35e8-6f92-4c19-d2e0-5bcd5b363e2b"
      },
      "execution_count": null,
      "outputs": [
        {
          "output_type": "stream",
          "name": "stdout",
          "text": [
            ">>>>> +\n",
            "i1 + i2 :  978\n",
            "f1 + f2 :  5.173\n",
            "big_int1 + big_int2 :  8012312325412625617263507172637065955888889111222233333333333268789\n"
          ]
        }
      ]
    },
    {
      "cell_type": "markdown",
      "source": [
        "## 숫자형(1-2)"
      ],
      "metadata": {
        "id": "yj_oP_ZLr7v2"
      }
    },
    {
      "cell_type": "code",
      "source": [
        "# 형 변환 실습\n",
        "a = 3.\n",
        "b = 6           # int\n",
        "c = .7\n",
        "d = 12.7"
      ],
      "metadata": {
        "id": "74p9LwZersiZ"
      },
      "execution_count": null,
      "outputs": []
    },
    {
      "cell_type": "code",
      "source": [
        "# 타입 출력\n",
        "print(type(a))\n",
        "print(type(b))\n",
        "print(type(c))\n",
        "print(type(d))"
      ],
      "metadata": {
        "colab": {
          "base_uri": "https://localhost:8080/"
        },
        "id": "DPpydB22sMtt",
        "outputId": "081746f9-efc5-4e89-c757-b6acf6235f1e"
      },
      "execution_count": null,
      "outputs": [
        {
          "output_type": "stream",
          "name": "stdout",
          "text": [
            "<class 'float'>\n",
            "<class 'int'>\n",
            "<class 'float'>\n",
            "<class 'float'>\n"
          ]
        }
      ]
    },
    {
      "cell_type": "code",
      "source": [
        "del float\n",
        "del int"
      ],
      "metadata": {
        "id": "fplK1cWDtJUu"
      },
      "execution_count": null,
      "outputs": []
    },
    {
      "cell_type": "code",
      "source": [
        "# 형 변환\n",
        "print(float(b))\n",
        "print(int(c))\n",
        "print(int(d))\n",
        "print(int(True))            # True : 1, False : 0\n",
        "print(float(False))\n",
        "print(complex(3))\n",
        "print(complex('3'))         # 문자형 -> int -> comple\n",
        "print(complex(False))"
      ],
      "metadata": {
        "colab": {
          "base_uri": "https://localhost:8080/"
        },
        "id": "1XqoIK-nsQ4K",
        "outputId": "4593804f-ab67-426c-e88f-0e0f3ff2d43b"
      },
      "execution_count": null,
      "outputs": [
        {
          "output_type": "stream",
          "name": "stdout",
          "text": [
            "6.0\n",
            "0\n",
            "12\n",
            "1\n",
            "0.0\n",
            "(3+0j)\n",
            "(3+0j)\n",
            "0j\n"
          ]
        }
      ]
    },
    {
      "cell_type": "code",
      "source": [
        "# 수치 연산 함수\n",
        "print(abs(-7))\n",
        "\n",
        "x, y = divmod(100, 8)           # x : 몫, y : 나머지\n",
        "print(x, y)\n",
        "\n",
        "print(pow(5, 3), 5**3)"
      ],
      "metadata": {
        "colab": {
          "base_uri": "https://localhost:8080/"
        },
        "id": "QaGpT24Csk35",
        "outputId": "41c65afe-1465-4a2c-b6f8-a82416f59c47"
      },
      "execution_count": null,
      "outputs": [
        {
          "output_type": "stream",
          "name": "stdout",
          "text": [
            "7\n",
            "12 4\n",
            "125 125\n"
          ]
        }
      ]
    },
    {
      "cell_type": "code",
      "source": [
        "# 외부 모듈\n",
        "import math\n",
        "\n",
        "print(math.pi)\n",
        "print(math.ceil(5.1))           # x 이상의 수 중에서 가장 작은 정수"
      ],
      "metadata": {
        "colab": {
          "base_uri": "https://localhost:8080/"
        },
        "id": "7lVVJH84uKR6",
        "outputId": "92be4683-ebbd-4c3b-8b2d-6deff1221a7b"
      },
      "execution_count": null,
      "outputs": [
        {
          "output_type": "stream",
          "name": "stdout",
          "text": [
            "3.141592653589793\n",
            "6\n"
          ]
        }
      ]
    },
    {
      "cell_type": "markdown",
      "source": [
        "# 2) 문자형"
      ],
      "metadata": {
        "id": "1v7TNPDQusyk"
      }
    },
    {
      "cell_type": "markdown",
      "source": [
        "## 문자형(2-1) : 텍스트 출력도 중요하겠죠?"
      ],
      "metadata": {
        "id": "EOsfri5vBdyl"
      }
    },
    {
      "cell_type": "code",
      "source": [
        "# 문자열 생성\n",
        "str1 = \"I am Python\"\n",
        "str2 = 'Python'\n",
        "str3 = \"\"\"How are you?\"\"\"\n",
        "str4 = '''Thank you!'''\n",
        "\n",
        "# 타입\n",
        "print(type(str1), type(str2), type(str3), type(str4))\n",
        "\n",
        "# 길이\n",
        "print(len(str1), len(str2), len(str3), len(str4))"
      ],
      "metadata": {
        "colab": {
          "base_uri": "https://localhost:8080/"
        },
        "id": "B0U1G60tuYbl",
        "outputId": "3d22c9ab-5e58-47bb-c230-0cda0973c9bd"
      },
      "execution_count": null,
      "outputs": [
        {
          "output_type": "stream",
          "name": "stdout",
          "text": [
            "<class 'str'> <class 'str'> <class 'str'> <class 'str'>\n",
            "11 6 12 10\n"
          ]
        }
      ]
    },
    {
      "cell_type": "code",
      "source": [
        "# 빈 문자열\n",
        "str1_t1 = ''\n",
        "str2_t2 = str()\n",
        "\n",
        "print(type(str1_t1), len(str1_t1))\n",
        "print(type(str2_t2), len(str2_t2))"
      ],
      "metadata": {
        "colab": {
          "base_uri": "https://localhost:8080/"
        },
        "id": "lF2N57pvBzuz",
        "outputId": "0c3feb17-3789-42b2-c90a-6c70be843582"
      },
      "execution_count": null,
      "outputs": [
        {
          "output_type": "stream",
          "name": "stdout",
          "text": [
            "<class 'str'> 0\n",
            "<class 'str'> 0\n"
          ]
        }
      ]
    },
    {
      "cell_type": "markdown",
      "source": [
        "### 참고 : Escape 코드\n",
        "* \\n : 개행\n",
        "* \\t : 탭\n",
        "* \\\\ : 문자\n",
        "* \\' : 문자\n",
        "* \\\" : 문자\n",
        "* \\000 : 널 문자"
      ],
      "metadata": {
        "id": "M9-gn0AUC907"
      }
    },
    {
      "cell_type": "code",
      "source": [
        "# 이스케이프 문자 사용\n",
        "print(\"I'm a boy\")\n",
        "print('I\\'m a boy')       # 이스케이프 문자 사용 : 뒤에 있는 특수기호를 그대로 출력"
      ],
      "metadata": {
        "colab": {
          "base_uri": "https://localhost:8080/"
        },
        "id": "jETQ64bRCRsU",
        "outputId": "eeac61b6-ca56-45b2-dd91-b9deced2e969"
      },
      "execution_count": null,
      "outputs": [
        {
          "output_type": "stream",
          "name": "stdout",
          "text": [
            "I'm a boy\n",
            "I'm a boy\n"
          ]
        }
      ]
    },
    {
      "cell_type": "code",
      "source": [
        "print('a \\t b')         # 탭\n",
        "print('a \\n b')         # 줄바꿈"
      ],
      "metadata": {
        "colab": {
          "base_uri": "https://localhost:8080/"
        },
        "id": "a2Bz2FdyCteN",
        "outputId": "2d6d0614-97ca-4ff9-d0d1-8915f5247acd"
      },
      "execution_count": null,
      "outputs": [
        {
          "output_type": "stream",
          "name": "stdout",
          "text": [
            "a \t b\n",
            "a \n",
            " b\n"
          ]
        }
      ]
    },
    {
      "cell_type": "code",
      "source": [
        "escape_str1 = \"Do you have a \\\"retro games\\\"?\"\n",
        "print(escape_str1)"
      ],
      "metadata": {
        "colab": {
          "base_uri": "https://localhost:8080/"
        },
        "id": "imLhE7xqCnm3",
        "outputId": "832777da-badf-4eb3-e5fd-8115d5f737f3"
      },
      "execution_count": null,
      "outputs": [
        {
          "output_type": "stream",
          "name": "stdout",
          "text": [
            "Do you have a \"retro games\"?\n"
          ]
        }
      ]
    },
    {
      "cell_type": "code",
      "source": [
        "escape_str2 = 'What\\'s on TV?'\n",
        "print(escape_str2)"
      ],
      "metadata": {
        "colab": {
          "base_uri": "https://localhost:8080/"
        },
        "id": "6mNQeNfKERWF",
        "outputId": "7841e0f8-6bc3-4744-ecb1-37a6f80c8fd3"
      },
      "execution_count": null,
      "outputs": [
        {
          "output_type": "stream",
          "name": "stdout",
          "text": [
            "What's on TV?\n"
          ]
        }
      ]
    },
    {
      "cell_type": "code",
      "source": [
        "# 탭, 줄 바꿈\n",
        "t_s1 = \"Click \\t Start!\"\n",
        "t_s2 = 'New Line \\n Check!'\n",
        "\n",
        "print(t_s1)\n",
        "print(t_s2)"
      ],
      "metadata": {
        "colab": {
          "base_uri": "https://localhost:8080/"
        },
        "id": "yevnkmeREXbo",
        "outputId": "f48dc779-e449-4224-8a39-f75edeb9775c"
      },
      "execution_count": null,
      "outputs": [
        {
          "output_type": "stream",
          "name": "stdout",
          "text": [
            "Click \t Start!\n",
            "New Line \n",
            " Check!\n"
          ]
        }
      ]
    },
    {
      "cell_type": "code",
      "source": [
        "# Raw String <-> escape\n",
        "raw_s1 = r'D:\\python\\test'\n",
        "print(raw_s1)"
      ],
      "metadata": {
        "colab": {
          "base_uri": "https://localhost:8080/"
        },
        "id": "M_m5DdCTEjrQ",
        "outputId": "b93b7ce5-1de9-41fb-c293-418d9aa8f48e"
      },
      "execution_count": null,
      "outputs": [
        {
          "output_type": "stream",
          "name": "stdout",
          "text": [
            "D:\\python\\test\n"
          ]
        }
      ]
    },
    {
      "cell_type": "markdown",
      "source": [
        "## 문자형(2-2)"
      ],
      "metadata": {
        "id": "WXmGXBnrFuW4"
      }
    },
    {
      "cell_type": "code",
      "source": [
        "# 멀티라인 입력\n",
        "multi_str = \\                       # 이 뒤에 계속하여 변수 선언을 할거다!\n",
        "\"\"\"\n",
        "오늘은 크리스마스 이브이다\n",
        "근데 나는 집이다\n",
        "좋은데 안좋다\n",
        "무슨 느낌일까요\n",
        "\"\"\"\n",
        "\n",
        "print(multi_str)"
      ],
      "metadata": {
        "colab": {
          "base_uri": "https://localhost:8080/"
        },
        "id": "Ex9nJI85E4VK",
        "outputId": "fcd727da-6e75-40a4-e639-69bdc7063358"
      },
      "execution_count": null,
      "outputs": [
        {
          "output_type": "stream",
          "name": "stdout",
          "text": [
            "\n",
            "오늘은 크리스마스 이브이다\n",
            "근데 나는 집이다\n",
            "좋은데 안좋다\n",
            "무슨 느낌일까요\n",
            "\n"
          ]
        }
      ]
    },
    {
      "cell_type": "markdown",
      "source": [
        "### 문자열 연산"
      ],
      "metadata": {
        "id": "N4a2W4YlHAcj"
      }
    },
    {
      "cell_type": "code",
      "source": [
        "str_o1 = \"Python\"\n",
        "str_o2 = \"Apple\"\n",
        "str_o3 = \"How are you doing\"\n",
        "str_o4 = \"Seoul Deajoen Busan Jinju\""
      ],
      "metadata": {
        "id": "TGtlk6zFGRsz"
      },
      "execution_count": null,
      "outputs": []
    },
    {
      "cell_type": "code",
      "source": [
        "# 반복 출력\n",
        "print(str_o1 * 3)\n",
        "\n",
        "# 문자 병합\n",
        "print(str_o1 + str_o2)\n",
        "\n",
        "# 문자 내 특정 문자열 포함 여부\n",
        "print('y' in str_o1)\n",
        "print('P' not in str_o2)          # 대소문자 구분 함!"
      ],
      "metadata": {
        "colab": {
          "base_uri": "https://localhost:8080/"
        },
        "id": "i74MPw5bGzqq",
        "outputId": "9769aaaa-b97d-418f-b292-577e92854b35"
      },
      "execution_count": null,
      "outputs": [
        {
          "output_type": "stream",
          "name": "stdout",
          "text": [
            "PythonPythonPython\n",
            "PythonApple\n",
            "True\n",
            "True\n"
          ]
        }
      ]
    },
    {
      "cell_type": "markdown",
      "source": [
        "### 문자열 형변환"
      ],
      "metadata": {
        "id": "phhbjq3tHahm"
      }
    },
    {
      "cell_type": "code",
      "source": [
        "print(str(66), type(str(66)))\n",
        "print(str(10.1))\n",
        "print(str(True), type(str(True)))"
      ],
      "metadata": {
        "colab": {
          "base_uri": "https://localhost:8080/"
        },
        "id": "3ALaK-LuHZxj",
        "outputId": "d2bd3a94-f820-4a72-ba37-bea240b0bc0e"
      },
      "execution_count": null,
      "outputs": [
        {
          "output_type": "stream",
          "name": "stdout",
          "text": [
            "66 <class 'str'>\n",
            "10.1\n",
            "True <class 'str'>\n"
          ]
        }
      ]
    },
    {
      "cell_type": "markdown",
      "source": [
        "### 문자열 함수 (upper, isalnum, startswith, count, endswith, isalpha ...)"
      ],
      "metadata": {
        "id": "xr9RkL29M9IU"
      }
    },
    {
      "cell_type": "code",
      "source": [
        "# 첫번째 시작 글자를 대문자로\n",
        "print(\"Capitalize : \", str_o1.capitalize())\n",
        "\n",
        "# 마지막 문자가 특정 문자열이 맞는지 체크\n",
        "print(\"endswith : \", str_o2.endswith(\"e\"))\n",
        "\n",
        "# 특정 문자열을 대체\n",
        "print(\"replace : \", str_o1.replace(\"thon\", 'Good'))\n",
        "\n",
        "# 리스트 형태로 각 문자열을 정렬\n",
        "print(\"sorted : \", sorted(str_o1))\n",
        "\n",
        "# 특정 문자열을 기준으로 잘라서, 리스트 형태로 분리\n",
        "print(\"split : \", str_o4.split(' '))"
      ],
      "metadata": {
        "colab": {
          "base_uri": "https://localhost:8080/"
        },
        "id": "mkL2ZJMUHin7",
        "outputId": "74b602ca-5cf3-4d31-eb73-d5e203c4a241"
      },
      "execution_count": null,
      "outputs": [
        {
          "output_type": "stream",
          "name": "stdout",
          "text": [
            "Capitalize :  Python\n",
            "endswith :  True\n",
            "replace :  PyGood\n",
            "sorted :  ['P', 'h', 'n', 'o', 't', 'y']\n",
            "split :  ['Seoul', 'Deajoen', 'Busan', 'Jinju']\n"
          ]
        }
      ]
    },
    {
      "cell_type": "markdown",
      "source": [
        "### 반복(시퀀스)"
      ],
      "metadata": {
        "id": "0csSoVaKN84-"
      }
    },
    {
      "cell_type": "code",
      "source": [
        "im_str = \"Good Boy!\"\n",
        "\n",
        "print(dir(im_str))            # __iter__"
      ],
      "metadata": {
        "colab": {
          "base_uri": "https://localhost:8080/"
        },
        "id": "hx8iFOHWMz7T",
        "outputId": "eaa706d2-e410-4df2-de67-a4200cb18f1c"
      },
      "execution_count": null,
      "outputs": [
        {
          "output_type": "stream",
          "name": "stdout",
          "text": [
            "['__add__', '__class__', '__contains__', '__delattr__', '__dir__', '__doc__', '__eq__', '__format__', '__ge__', '__getattribute__', '__getitem__', '__getnewargs__', '__gt__', '__hash__', '__init__', '__init_subclass__', '__iter__', '__le__', '__len__', '__lt__', '__mod__', '__mul__', '__ne__', '__new__', '__reduce__', '__reduce_ex__', '__repr__', '__rmod__', '__rmul__', '__setattr__', '__sizeof__', '__str__', '__subclasshook__', 'capitalize', 'casefold', 'center', 'count', 'encode', 'endswith', 'expandtabs', 'find', 'format', 'format_map', 'index', 'isalnum', 'isalpha', 'isascii', 'isdecimal', 'isdigit', 'isidentifier', 'islower', 'isnumeric', 'isprintable', 'isspace', 'istitle', 'isupper', 'join', 'ljust', 'lower', 'lstrip', 'maketrans', 'partition', 'removeprefix', 'removesuffix', 'replace', 'rfind', 'rindex', 'rjust', 'rpartition', 'rsplit', 'rstrip', 'split', 'splitlines', 'startswith', 'strip', 'swapcase', 'title', 'translate', 'upper', 'zfill']\n"
          ]
        }
      ]
    },
    {
      "cell_type": "code",
      "source": [
        "# 출력\n",
        "for i in im_str :\n",
        "  print(i)"
      ],
      "metadata": {
        "colab": {
          "base_uri": "https://localhost:8080/"
        },
        "id": "1Yyoazd3ODsy",
        "outputId": "8a66bf0f-3d93-4aa5-d645-d7edb743425b"
      },
      "execution_count": null,
      "outputs": [
        {
          "output_type": "stream",
          "name": "stdout",
          "text": [
            "G\n",
            "o\n",
            "o\n",
            "d\n",
            " \n",
            "B\n",
            "o\n",
            "y\n",
            "!\n"
          ]
        }
      ]
    },
    {
      "cell_type": "markdown",
      "source": [
        "## 문자형(2-3)"
      ],
      "metadata": {
        "id": "rtmQdg_1ObBt"
      }
    },
    {
      "cell_type": "markdown",
      "source": [
        "### 슬라이싱 연습"
      ],
      "metadata": {
        "id": "TQYgbeUIOfCW"
      }
    },
    {
      "cell_type": "code",
      "source": [
        "str_sl = \"Nice Python\""
      ],
      "metadata": {
        "id": "X9iUuvq8OQhU"
      },
      "execution_count": null,
      "outputs": []
    },
    {
      "cell_type": "code",
      "source": [
        "print(str_sl[0:3])        # 인덱스 기준이고, a:b 는 a~b-1까지\n",
        "print(str_sl[5:])         # [5:11]\n",
        "print(str_sl[:len(str_sl)])     # str_sl[:11]\n",
        "print(str_sl[1:4:2])            # 1부터 3까지인데 2칸씩 띄어서 갖고와라"
      ],
      "metadata": {
        "colab": {
          "base_uri": "https://localhost:8080/"
        },
        "id": "TkYqjDB7OuTh",
        "outputId": "939fe017-a108-457d-d6d9-abf68226f009"
      },
      "execution_count": null,
      "outputs": [
        {
          "output_type": "stream",
          "name": "stdout",
          "text": [
            "Nic\n",
            "Python\n",
            "Nice Python\n",
            "ie\n"
          ]
        }
      ]
    },
    {
      "cell_type": "code",
      "source": [
        "print(str_sl[-5:])\n",
        "print(str_sl[1:-2])"
      ],
      "metadata": {
        "colab": {
          "base_uri": "https://localhost:8080/"
        },
        "id": "PtdnfceIPyHB",
        "outputId": "a6b03b3f-12f9-4f45-e210-bb586b6d7e19"
      },
      "execution_count": null,
      "outputs": [
        {
          "output_type": "stream",
          "name": "stdout",
          "text": [
            "ython\n",
            "ice Pyth\n"
          ]
        }
      ]
    },
    {
      "cell_type": "code",
      "source": [
        "print(str_sl[::2])        # 처음부터 끝까지 두칸씩\n",
        "print(str_sl[::-1])       # 처음부터 끝까지인데 거꾸로!"
      ],
      "metadata": {
        "colab": {
          "base_uri": "https://localhost:8080/"
        },
        "id": "8Ghe9musQGZd",
        "outputId": "e887de52-06a9-4aa9-e683-c1483d2f2f6f"
      },
      "execution_count": null,
      "outputs": [
        {
          "output_type": "stream",
          "name": "stdout",
          "text": [
            "Nc yhn\n",
            "nohtyP eciN\n"
          ]
        }
      ]
    },
    {
      "cell_type": "markdown",
      "source": [
        "### 아스키 코드 (또는 유니코드)"
      ],
      "metadata": {
        "id": "EnSceB0PQXkR"
      }
    },
    {
      "cell_type": "code",
      "source": [
        "a = 'z'\n",
        "\n",
        "# 아스키 코드로\n",
        "print(ord(a))"
      ],
      "metadata": {
        "colab": {
          "base_uri": "https://localhost:8080/"
        },
        "id": "0MvyA9OIQWwI",
        "outputId": "6d17c6fc-e85a-49f7-b415-23b99c4633ab"
      },
      "execution_count": null,
      "outputs": [
        {
          "output_type": "stream",
          "name": "stdout",
          "text": [
            "122\n"
          ]
        }
      ]
    },
    {
      "cell_type": "code",
      "source": [
        "# 문자로\n",
        "print(chr(122))"
      ],
      "metadata": {
        "colab": {
          "base_uri": "https://localhost:8080/"
        },
        "id": "1CaQ_ZFpQmJ9",
        "outputId": "35d08c56-9a2b-4366-a415-395180df2e90"
      },
      "execution_count": null,
      "outputs": [
        {
          "output_type": "stream",
          "name": "stdout",
          "text": [
            "z\n"
          ]
        }
      ]
    },
    {
      "cell_type": "markdown",
      "source": [
        "# 3) 리스트(List)"
      ],
      "metadata": {
        "id": "fBK4ChC8Q6Rg"
      }
    },
    {
      "cell_type": "markdown",
      "source": [
        "## 리스트(3-1) : 집합 구조의 첫 걸음은 리스트 자료형\n",
        "자료 구조에서 중요\n",
        "\n",
        "리스트 자료형(순서O, 중복O, 수정O, 삭제O)"
      ],
      "metadata": {
        "id": "Ioqw_aU5RJvr"
      }
    },
    {
      "cell_type": "code",
      "source": [
        "# 선언\n",
        "a = []\n",
        "b = list()\n",
        "c = [70, 75, 80, 85]\n",
        "d = [1000, 10000, 'Ace', 'Base', 'Captine']\n",
        "e = [1000, 10000, ['Ace', 'Base', 'Captine']]\n",
        "f = [21.42, 'footbar', 3, 4, False, 3.14159]"
      ],
      "metadata": {
        "id": "xcPPbsA3QrlB"
      },
      "execution_count": null,
      "outputs": []
    },
    {
      "cell_type": "code",
      "source": [
        "# 인덱싱\n",
        "print('d - ', type(d), d)\n",
        "print('d - ', d[1])\n",
        "print('d - ', d[0] + d[1] + d[1])\n",
        "print('d - ', d[-1])\n",
        "print('e - ', e[-1][1])\n",
        "print('e - ', list(e[-1][1]))"
      ],
      "metadata": {
        "colab": {
          "base_uri": "https://localhost:8080/"
        },
        "id": "Ops7hxemVbmb",
        "outputId": "25827e8b-d239-470b-ec89-34a4b3d77ee9"
      },
      "execution_count": null,
      "outputs": [
        {
          "output_type": "stream",
          "name": "stdout",
          "text": [
            "d -  <class 'list'> [1000, 10000, 'Ace', 'Base', 'Captine']\n",
            "d -  10000\n",
            "d -  21000\n",
            "d -  Captine\n",
            "e -  Base\n",
            "e -  ['B', 'a', 's', 'e']\n"
          ]
        }
      ]
    },
    {
      "cell_type": "code",
      "source": [
        "# 슬라이싱\n",
        "print('d - ', d[0:3])\n",
        "print('d - ', d[2:])\n",
        "print('e - ', e[-1][1:3])"
      ],
      "metadata": {
        "colab": {
          "base_uri": "https://localhost:8080/"
        },
        "id": "PwsFC6GFWDPU",
        "outputId": "5ca60d58-d26b-4567-9e1c-30dfcc61325f"
      },
      "execution_count": null,
      "outputs": [
        {
          "output_type": "stream",
          "name": "stdout",
          "text": [
            "d -  [1000, 10000, 'Ace']\n",
            "d -  ['Ace', 'Base', 'Captine']\n",
            "e -  ['Base', 'Captine']\n"
          ]
        }
      ]
    },
    {
      "cell_type": "code",
      "source": [
        "# 리스트 연산 : 리스트 연산하면 리스트가 나온다\n",
        "print('c + d', c + d)\n",
        "print('c * 3', c * 3)\n",
        "print(\"'Test' + c[0]\", 'Test' + str(c[0]))"
      ],
      "metadata": {
        "colab": {
          "base_uri": "https://localhost:8080/"
        },
        "id": "o_HitC5dXB05",
        "outputId": "4be798f9-0b36-496b-e290-9b43718e51b3"
      },
      "execution_count": null,
      "outputs": [
        {
          "output_type": "stream",
          "name": "stdout",
          "text": [
            "c + d [70, 75, 80, 85, 1000, 10000, 'Ace', 'Base', 'Captine']\n",
            "c * 3 [70, 75, 80, 85, 70, 75, 80, 85, 70, 75, 80, 85]\n",
            "'Test' + c[0] Test70\n"
          ]
        }
      ]
    },
    {
      "cell_type": "markdown",
      "source": [
        "## 리스트(3-2)"
      ],
      "metadata": {
        "id": "Q3F3q7vjXpFT"
      }
    },
    {
      "cell_type": "code",
      "source": [
        "# 값 비교\n",
        "print(c == c[:3] + c[3:])"
      ],
      "metadata": {
        "colab": {
          "base_uri": "https://localhost:8080/"
        },
        "id": "MMj1eNq0XoRR",
        "outputId": "ca9a34be-988d-4e45-de03-759025032032"
      },
      "execution_count": null,
      "outputs": [
        {
          "output_type": "stream",
          "name": "stdout",
          "text": [
            "True\n"
          ]
        }
      ]
    },
    {
      "cell_type": "code",
      "source": [
        "# Identity(id) : 집주소\n",
        "temp = c\n",
        "print(temp, c)\n",
        "print(id(temp))\n",
        "print(id(c))"
      ],
      "metadata": {
        "colab": {
          "base_uri": "https://localhost:8080/"
        },
        "id": "jeN2HzOPfpyj",
        "outputId": "e4b79dd4-052a-45a6-b016-7137aada1137"
      },
      "execution_count": null,
      "outputs": [
        {
          "output_type": "stream",
          "name": "stdout",
          "text": [
            "[70, 75, 80, 85] [70, 75, 80, 85]\n",
            "136090633157760\n",
            "136090633157760\n"
          ]
        }
      ]
    },
    {
      "cell_type": "markdown",
      "source": [
        "### 리스트 수정, 삭제"
      ],
      "metadata": {
        "id": "afIVtlgagHxM"
      }
    },
    {
      "cell_type": "code",
      "source": [
        "c[0] = 4\n",
        "print('c - ', c)      # 바로 수정이 됨"
      ],
      "metadata": {
        "colab": {
          "base_uri": "https://localhost:8080/"
        },
        "id": "H4z-0YQTfv04",
        "outputId": "bb0c4818-879a-4955-af02-a5d165ca7759"
      },
      "execution_count": null,
      "outputs": [
        {
          "output_type": "stream",
          "name": "stdout",
          "text": [
            "c -  [4, 75, 80, 85]\n"
          ]
        }
      ]
    },
    {
      "cell_type": "code",
      "source": [
        "# 수정\n",
        "c[1:2] = ['a', 'b', 'c']      # [['a', 'b', 'c']]\n",
        "print('c - ', c)      # 75 대신에 위 문자들이 들어가는데, 리스트 형태로 들어가는 것이 아닌, 각 원소들이 들어감\n",
        "\n",
        "c[1] = ['a', 'b', 'c']\n",
        "print('c - ', c)      # 리스트 형태로 들어감\n",
        "\n",
        "c[1:3] = []       # 위 부분이 삭제"
      ],
      "metadata": {
        "id": "9iGCFWiQgPAf"
      },
      "execution_count": null,
      "outputs": []
    },
    {
      "cell_type": "code",
      "source": [
        "# 삭제\n",
        "del c[2]\n",
        "print('c - ', c)"
      ],
      "metadata": {
        "id": "pybECjT5g_Jk"
      },
      "execution_count": null,
      "outputs": []
    },
    {
      "cell_type": "markdown",
      "source": [
        "### 리스트 함수"
      ],
      "metadata": {
        "id": "S6GCdlO0hIs_"
      }
    },
    {
      "cell_type": "code",
      "source": [
        "a = [5, 2, 3, 1, 4]\n",
        "print('a - ', a)"
      ],
      "metadata": {
        "colab": {
          "base_uri": "https://localhost:8080/"
        },
        "id": "QETJISRIhGAu",
        "outputId": "3afe1e9b-a5dd-4e7e-ddcb-07126bdcbb2a"
      },
      "execution_count": null,
      "outputs": [
        {
          "output_type": "stream",
          "name": "stdout",
          "text": [
            "a -  [5, 2, 3, 1, 4]\n"
          ]
        }
      ]
    },
    {
      "cell_type": "code",
      "source": [
        "# 끝에 추가\n",
        "a.append(10)\n",
        "print('a - ', a)"
      ],
      "metadata": {
        "colab": {
          "base_uri": "https://localhost:8080/"
        },
        "id": "1mWMuVDphOtU",
        "outputId": "0c8b40d8-f204-47ec-955d-95b2ceecaf95"
      },
      "execution_count": null,
      "outputs": [
        {
          "output_type": "stream",
          "name": "stdout",
          "text": [
            "a -  [5, 2, 3, 1, 4, 10]\n"
          ]
        }
      ]
    },
    {
      "cell_type": "code",
      "source": [
        "# 정렬\n",
        "a.sort()\n",
        "print('a - ', a)"
      ],
      "metadata": {
        "colab": {
          "base_uri": "https://localhost:8080/"
        },
        "id": "VIYYdUWrhdMr",
        "outputId": "3d8e8fd6-285c-461f-c48c-201a2890a8e0"
      },
      "execution_count": null,
      "outputs": [
        {
          "output_type": "stream",
          "name": "stdout",
          "text": [
            "a -  [1, 2, 3, 4, 5, 10]\n"
          ]
        }
      ]
    },
    {
      "cell_type": "code",
      "source": [
        "# 역순 정렬\n",
        "a.reverse()\n",
        "print('a - ', a)"
      ],
      "metadata": {
        "colab": {
          "base_uri": "https://localhost:8080/"
        },
        "id": "Tch2W3B9hj5-",
        "outputId": "bef9fb18-1c8c-4fc4-a8cf-e826f54f66d2"
      },
      "execution_count": null,
      "outputs": [
        {
          "output_type": "stream",
          "name": "stdout",
          "text": [
            "a -  [1, 2, 3, 4, 7, 5, 10]\n"
          ]
        }
      ]
    },
    {
      "cell_type": "markdown",
      "source": [
        "✋ 중간에 삽입 코드를 진행한 후, 다시 reverse를 했을 때, 왜 5가 7보다 뒤에 있을까?"
      ],
      "metadata": {
        "id": "ivdyb-J5iz-i"
      }
    },
    {
      "cell_type": "code",
      "source": [
        "# 인덱스 조회\n",
        "print('a - ', a.index(3), a[3])     # 동일한 결과"
      ],
      "metadata": {
        "colab": {
          "base_uri": "https://localhost:8080/"
        },
        "id": "z2IHPJJVhr7-",
        "outputId": "47626936-9e66-4d57-ac70-2873fc8e1984"
      },
      "execution_count": null,
      "outputs": [
        {
          "output_type": "stream",
          "name": "stdout",
          "text": [
            "a -  3 3\n"
          ]
        }
      ]
    },
    {
      "cell_type": "code",
      "source": [
        "# 중간에 삽입\n",
        "a.insert(2, 7)      # a 위치에 b를 넣을거임\n",
        "print('a - ', a)"
      ],
      "metadata": {
        "colab": {
          "base_uri": "https://localhost:8080/"
        },
        "id": "JKQ2j6IUh939",
        "outputId": "6843d99c-086d-4a95-f871-0dc50dca1f8d"
      },
      "execution_count": null,
      "outputs": [
        {
          "output_type": "stream",
          "name": "stdout",
          "text": [
            "a -  [10, 5, 7, 4, 3, 2, 1]\n"
          ]
        }
      ]
    },
    {
      "cell_type": "code",
      "source": [
        "# 제거 : 데이터의 규모가 크면 del 로 제거하는게 어려움\n",
        "a.remove(10)\n",
        "print('a - ', a)"
      ],
      "metadata": {
        "colab": {
          "base_uri": "https://localhost:8080/"
        },
        "id": "KxBC_gPPik3M",
        "outputId": "d0775a30-3c61-4701-d61d-46645d8c77a0"
      },
      "execution_count": null,
      "outputs": [
        {
          "output_type": "stream",
          "name": "stdout",
          "text": [
            "a -  [1, 2, 3, 4, 7, 5]\n"
          ]
        }
      ]
    },
    {
      "cell_type": "code",
      "source": [
        "# 마지막 원소를 꺼내오고, 리스트에서는 해당 원소를 삭제 -> 자료구조에서 많이 씀\n",
        "print('a - ', a.pop())\n",
        "print('a - ', a)"
      ],
      "metadata": {
        "colab": {
          "base_uri": "https://localhost:8080/"
        },
        "id": "aJsTma-miIo8",
        "outputId": "ae1dfafe-721d-47d8-de5a-bc43bf0aacd4"
      },
      "execution_count": null,
      "outputs": [
        {
          "output_type": "stream",
          "name": "stdout",
          "text": [
            "a -  7\n",
            "a -  [1, 2, 3, 4]\n"
          ]
        }
      ]
    },
    {
      "cell_type": "code",
      "source": [
        "# 특정 원소값의 갯수가 몇개인지 (존재/중복 여부 파악)\n",
        "print('a - ', a.count(4))"
      ],
      "metadata": {
        "colab": {
          "base_uri": "https://localhost:8080/"
        },
        "id": "UzpdBWPAi-5e",
        "outputId": "10f01a96-fa80-43bf-a84c-aae065257ba9"
      },
      "execution_count": null,
      "outputs": [
        {
          "output_type": "stream",
          "name": "stdout",
          "text": [
            "a -  1\n"
          ]
        }
      ]
    },
    {
      "cell_type": "code",
      "source": [
        "# 뒤로 연장 (append랑 비슷)\n",
        "ex = [8, 9]\n",
        "a.extend(ex)\n",
        "print('a - ', a)"
      ],
      "metadata": {
        "colab": {
          "base_uri": "https://localhost:8080/"
        },
        "id": "hdlQ_L-CjXUg",
        "outputId": "7d651f07-0d9e-468d-a896-2581bd205e4a"
      },
      "execution_count": null,
      "outputs": [
        {
          "output_type": "stream",
          "name": "stdout",
          "text": [
            "a -  [1, 2, 3, 4, 8, 9]\n"
          ]
        }
      ]
    },
    {
      "cell_type": "code",
      "source": [
        "# 삭제 : remove, pop, del"
      ],
      "metadata": {
        "id": "O_LQMUwmjwUN"
      },
      "execution_count": null,
      "outputs": []
    },
    {
      "cell_type": "code",
      "source": [
        "# 반복문 활용\n",
        "while a :\n",
        "  data = a.pop()\n",
        "  print(data)"
      ],
      "metadata": {
        "colab": {
          "base_uri": "https://localhost:8080/"
        },
        "id": "HNcryc3-kHs9",
        "outputId": "a8a9f618-0c79-4785-8a3d-35e49a834931"
      },
      "execution_count": null,
      "outputs": [
        {
          "output_type": "stream",
          "name": "stdout",
          "text": [
            "9\n",
            "8\n",
            "4\n",
            "3\n",
            "2\n",
            "1\n"
          ]
        }
      ]
    },
    {
      "cell_type": "markdown",
      "source": [
        "# 4) 튜플"
      ],
      "metadata": {
        "id": "A1scoV6GX9va"
      }
    },
    {
      "cell_type": "markdown",
      "source": [
        "## 튜플(4-1) : 튜플은 리스트와 거의 비슷해요."
      ],
      "metadata": {
        "id": "V-jpPAPyYEcI"
      }
    },
    {
      "cell_type": "markdown",
      "source": [
        "리스트와 비교가 중요\n",
        "* 튜플 자료형(순서O, 중복O, 수정X, 삭제X)\n",
        "  * 한번 들어가면 불변\n",
        "  * 이러한 특징을 활용해야하는 곳에는 리스트 대신 튜플을 사용"
      ],
      "metadata": {
        "id": "7twoAfG0YN-W"
      }
    },
    {
      "cell_type": "code",
      "source": [
        "# 선언\n",
        "a = ()\n",
        "b = (1)       # 한개일 때는 컴마를 찍지 않으면, int값으로 인지\n",
        "b = (1,)\n",
        "c = (11, 12, 13, 14)\n",
        "d = (100, 1000, 'Ace', 'Base', 'Captine')\n",
        "e = (100, 1000, ('Ace', 'Base', 'Captine'))\n",
        "print(type(a), type(b))"
      ],
      "metadata": {
        "colab": {
          "base_uri": "https://localhost:8080/"
        },
        "id": "RjY7r3S7kTJA",
        "outputId": "029dd5d3-1604-4d46-d657-5721f9de8903"
      },
      "execution_count": null,
      "outputs": [
        {
          "output_type": "stream",
          "name": "stdout",
          "text": [
            "<class 'tuple'> <class 'tuple'>\n"
          ]
        }
      ]
    },
    {
      "cell_type": "code",
      "source": [
        "# 인덱싱\n",
        "print('d - ', d[1])\n",
        "print('d - ', d[0] + d[1] + d[1])     # 계산도 가능\n",
        "print('d - ', e[-1])                  # 튜플이 반환\n",
        "print('d - ', e[-1][1])\n",
        "print('d - ', list(e[-1][1]))         # 리스트로 형변환 : 튜플의 성질이 리스트로 변경됨. 즉 수정 삭제 가능"
      ],
      "metadata": {
        "colab": {
          "base_uri": "https://localhost:8080/"
        },
        "id": "bldONnkHY4LI",
        "outputId": "b2af6336-4365-48c0-e27e-3a5aa167d5c4"
      },
      "execution_count": null,
      "outputs": [
        {
          "output_type": "stream",
          "name": "stdout",
          "text": [
            "d -  1000\n",
            "d -  2100\n",
            "d -  ('Ace', 'Base', 'Captine')\n",
            "d -  Base\n",
            "d -  ['B', 'a', 's', 'e']\n"
          ]
        }
      ]
    },
    {
      "cell_type": "code",
      "source": [
        "# 수정X\n",
        "d[0] = 1500"
      ],
      "metadata": {
        "colab": {
          "base_uri": "https://localhost:8080/",
          "height": 203
        },
        "id": "xYOp71aSZWn5",
        "outputId": "6191d4e6-d49f-4cb0-e84e-a712f9722c4a"
      },
      "execution_count": null,
      "outputs": [
        {
          "output_type": "error",
          "ename": "TypeError",
          "evalue": "ignored",
          "traceback": [
            "\u001b[0;31m---------------------------------------------------------------------------\u001b[0m",
            "\u001b[0;31mTypeError\u001b[0m                                 Traceback (most recent call last)",
            "\u001b[0;32m<ipython-input-3-6873618ccfe7>\u001b[0m in \u001b[0;36m<cell line: 2>\u001b[0;34m()\u001b[0m\n\u001b[1;32m      1\u001b[0m \u001b[0;31m# 수정X\u001b[0m\u001b[0;34m\u001b[0m\u001b[0;34m\u001b[0m\u001b[0m\n\u001b[0;32m----> 2\u001b[0;31m \u001b[0md\u001b[0m\u001b[0;34m[\u001b[0m\u001b[0;36m0\u001b[0m\u001b[0;34m]\u001b[0m \u001b[0;34m=\u001b[0m \u001b[0;36m1500\u001b[0m\u001b[0;34m\u001b[0m\u001b[0;34m\u001b[0m\u001b[0m\n\u001b[0m",
            "\u001b[0;31mTypeError\u001b[0m: 'tuple' object does not support item assignment"
          ]
        }
      ]
    },
    {
      "cell_type": "code",
      "source": [
        "# 슬라이싱\n",
        "print('d - ', d[0:3])\n",
        "print('d - ', d[2:])\n",
        "print('d - ', e[2][1:3])"
      ],
      "metadata": {
        "colab": {
          "base_uri": "https://localhost:8080/"
        },
        "id": "1IzSt1oiZaWo",
        "outputId": "f852cd94-ab83-472a-dcf7-5e7adb78c845"
      },
      "execution_count": null,
      "outputs": [
        {
          "output_type": "stream",
          "name": "stdout",
          "text": [
            "d -  (100, 1000, 'Ace')\n",
            "d -  ('Ace', 'Base', 'Captine')\n",
            "d -  ('Base', 'Captine')\n"
          ]
        }
      ]
    },
    {
      "cell_type": "code",
      "source": [
        "# 튜플 연산\n",
        "print('c + d', c + d)\n",
        "print('c * 3', c * 3)"
      ],
      "metadata": {
        "colab": {
          "base_uri": "https://localhost:8080/"
        },
        "id": "yRk2NtmKZsnc",
        "outputId": "2a38a422-1827-44ff-ab5d-5d85e750f58f"
      },
      "execution_count": null,
      "outputs": [
        {
          "output_type": "stream",
          "name": "stdout",
          "text": [
            "c + d (11, 12, 13, 14, 100, 1000, 'Ace', 'Base', 'Captine')\n",
            "c * 3 (11, 12, 13, 14, 11, 12, 13, 14, 11, 12, 13, 14)\n"
          ]
        }
      ]
    },
    {
      "cell_type": "markdown",
      "source": [
        "### 튜플 함수"
      ],
      "metadata": {
        "id": "n10_4aILaPlQ"
      }
    },
    {
      "cell_type": "code",
      "source": [
        "a = (5, 2, 3, 1, 4)\n",
        "print('a - ', a)"
      ],
      "metadata": {
        "colab": {
          "base_uri": "https://localhost:8080/"
        },
        "id": "uDdY3w2qZ4MZ",
        "outputId": "ff26e9cb-8352-480d-984a-562021c213c8"
      },
      "execution_count": null,
      "outputs": [
        {
          "output_type": "stream",
          "name": "stdout",
          "text": [
            "a -  (5, 2, 3, 1, 4)\n"
          ]
        }
      ]
    },
    {
      "cell_type": "code",
      "source": [
        "print('a - ', a.index(3))\n",
        "\n",
        "print('a - ', a.count(2))"
      ],
      "metadata": {
        "colab": {
          "base_uri": "https://localhost:8080/"
        },
        "id": "-qxAuS-8aBE2",
        "outputId": "56d6f09e-fb2e-4dd5-8d3e-269d5ad3ac57"
      },
      "execution_count": null,
      "outputs": [
        {
          "output_type": "stream",
          "name": "stdout",
          "text": [
            "a -  2\n",
            "a -  1\n"
          ]
        }
      ]
    },
    {
      "cell_type": "markdown",
      "source": [
        "### 팩킹 & 언팩킹(Packing and Unpacking)"
      ],
      "metadata": {
        "id": "ZO-IkA6laMsB"
      }
    },
    {
      "cell_type": "code",
      "source": [
        "# 팩킹 : 하나로 묶다 = 튜플을 선언\n",
        "t = ('foo', 'bar', 'baz', 'qux')\n",
        "print(t)\n",
        "print(t[0])"
      ],
      "metadata": {
        "colab": {
          "base_uri": "https://localhost:8080/"
        },
        "id": "ickGDECRaFlI",
        "outputId": "46cf6104-393a-4e40-db6a-73bc80f38b27"
      },
      "execution_count": null,
      "outputs": [
        {
          "output_type": "stream",
          "name": "stdout",
          "text": [
            "('foo', 'bar', 'baz', 'qux')\n",
            "foo\n"
          ]
        }
      ]
    },
    {
      "cell_type": "code",
      "source": [
        "# 언팩킹1 : 각각을 할당\n",
        "(x1, x2, x3, x4) = t          # 괄호가 없어도 언팩킹은 됨\n",
        "print(type(x1), type(x2), type(x3), type(x4))\n",
        "print(x1, x2, x3, x4)"
      ],
      "metadata": {
        "colab": {
          "base_uri": "https://localhost:8080/"
        },
        "id": "Wv0fwCAgafPn",
        "outputId": "216010ed-7136-4a86-d405-5cad2d2337f7"
      },
      "execution_count": null,
      "outputs": [
        {
          "output_type": "stream",
          "name": "stdout",
          "text": [
            "<class 'str'> <class 'str'> <class 'str'> <class 'str'>\n",
            "foo bar baz qux\n"
          ]
        }
      ]
    },
    {
      "cell_type": "code",
      "source": [
        "# 팩킹 & 언팩킹\n",
        "t2 = 1, 2, 3                # 팩킹\n",
        "t3 = 4,                     # 팩킹\n",
        "\n",
        "x1, x2, x3 = t2             # 언팩킹\n",
        "x4, x5, x6 = 4, 5, 6        # 언팩킹"
      ],
      "metadata": {
        "id": "duj0NSt9apQh"
      },
      "execution_count": null,
      "outputs": []
    },
    {
      "cell_type": "markdown",
      "source": [
        "# 5) 딕셔너리"
      ],
      "metadata": {
        "id": "MZVgjURDbZ8r"
      }
    },
    {
      "cell_type": "markdown",
      "source": [
        "## 딕셔너리(5-1) : 딕셔너리는 유용하게 자주 사용해요.\n",
        "* 범용적으로 가장 많이 사용\n",
        "* 딕셔너리 자료형 (순서X, 키 중복X, 수정O, 삭제O)"
      ],
      "metadata": {
        "id": "Y1-Ov9Yfbdwl"
      }
    },
    {
      "cell_type": "code",
      "source": [
        "# 선언 : 방법이 다양\n",
        "a = {'name' : 'Kim', 'phone' : '0103337777', 'birth' : '870514'}      # key : value / key는 숫자형도 가능함\n",
        "b = {0 : 'Hello Python'}\n",
        "c = {'arr' : [1,2,3,4]}\n",
        "d = {\n",
        "    'Name' : 'Niceman',\n",
        "    'City' : 'Seoul',\n",
        "    'Age' : 33,\n",
        "    'Grade' : 'A',\n",
        "    'Status' : True\n",
        "}\n",
        "e = dict([\n",
        "    ('Name', 'Niceman'),\n",
        "    ('City', 'Seoul')\n",
        "])\n",
        "f = dict(\n",
        "    Name = 'Niceman',\n",
        "    City = 'Seoul',\n",
        "    Age = 33,\n",
        "    Grade = 'A',\n",
        "    Status = True\n",
        ")"
      ],
      "metadata": {
        "id": "NpxkA2L-bOhM"
      },
      "execution_count": null,
      "outputs": []
    },
    {
      "cell_type": "code",
      "source": [
        "# 출력\n",
        "print('a - ', type(a), a)"
      ],
      "metadata": {
        "colab": {
          "base_uri": "https://localhost:8080/"
        },
        "id": "kB1-dkR6fE-N",
        "outputId": "b0ef9dbe-01d6-4d8d-bdd0-47a117e27b0f"
      },
      "execution_count": null,
      "outputs": [
        {
          "output_type": "stream",
          "name": "stdout",
          "text": [
            "a -  <class 'dict'> {'name': 'Kim', 'phone': '0103337777', 'birth': '870514'}\n"
          ]
        }
      ]
    },
    {
      "cell_type": "code",
      "source": [
        "# 출력\n",
        "print('a - ', a['name'])\n",
        "print('a - ', a.get('name'))\n",
        "\n",
        "#print('a - ', a['name1'])           # erorr!\n",
        "print('a - ', a.get('name1'))       # None -> 프로그램의 흐름이 끊기지 않기 때문에, get을 더 많이 씀"
      ],
      "metadata": {
        "colab": {
          "base_uri": "https://localhost:8080/"
        },
        "id": "f0qXns8xfLNP",
        "outputId": "8a0bc268-0125-4dd1-b547-109d8473c358"
      },
      "execution_count": null,
      "outputs": [
        {
          "output_type": "stream",
          "name": "stdout",
          "text": [
            "a -  Kim\n",
            "a -  Kim\n",
            "a -  None\n"
          ]
        }
      ]
    },
    {
      "cell_type": "code",
      "source": [
        "print('b - ', b[0])\n",
        "print('b - ', b.get(0))"
      ],
      "metadata": {
        "colab": {
          "base_uri": "https://localhost:8080/"
        },
        "id": "CXTv9ITVf0eV",
        "outputId": "65377460-b04a-4f08-c719-10764e7855a6"
      },
      "execution_count": null,
      "outputs": [
        {
          "output_type": "stream",
          "name": "stdout",
          "text": [
            "b -  Hello Python\n",
            "b -  Hello Python\n"
          ]
        }
      ]
    },
    {
      "cell_type": "code",
      "source": [
        "print('f - ', f.get('City'))"
      ],
      "metadata": {
        "colab": {
          "base_uri": "https://localhost:8080/"
        },
        "id": "vAyWPgTCf9Hv",
        "outputId": "f0fe51fa-fa64-49a1-a5e2-390485eb5229"
      },
      "execution_count": null,
      "outputs": [
        {
          "output_type": "stream",
          "name": "stdout",
          "text": [
            "f -  Seoul\n"
          ]
        }
      ]
    },
    {
      "cell_type": "markdown",
      "source": [
        "## 딕셔너리(5-2)"
      ],
      "metadata": {
        "id": "0ZNn5DyDgJWf"
      }
    },
    {
      "cell_type": "code",
      "source": [
        "# 추가\n",
        "a['address'] = 'Seoul'\n",
        "print('a - ', a)\n",
        "\n",
        "a['rank'] = [1,2,3]\n",
        "print('a - ', a)"
      ],
      "metadata": {
        "colab": {
          "base_uri": "https://localhost:8080/"
        },
        "id": "LftgglT8gImE",
        "outputId": "b9ac72e5-d58e-4fb6-a95b-34970a8eada8"
      },
      "execution_count": null,
      "outputs": [
        {
          "output_type": "stream",
          "name": "stdout",
          "text": [
            "a -  {'name': 'Kim', 'phone': '0103337777', 'birth': '870514', 'adress': 'Seoul', 'address': 'Seoul'}\n",
            "a -  {'name': 'Kim', 'phone': '0103337777', 'birth': '870514', 'adress': 'Seoul', 'address': 'Seoul', 'rank': [1, 2, 3]}\n"
          ]
        }
      ]
    },
    {
      "cell_type": "code",
      "source": [
        "# key의 길이\n",
        "print('a - ', len(a))"
      ],
      "metadata": {
        "colab": {
          "base_uri": "https://localhost:8080/"
        },
        "id": "l_q8x_zLgWP0",
        "outputId": "4ba367ec-e56c-459a-cdb1-45b69152dfd5"
      },
      "execution_count": null,
      "outputs": [
        {
          "output_type": "stream",
          "name": "stdout",
          "text": [
            "a -  6\n"
          ]
        }
      ]
    },
    {
      "cell_type": "markdown",
      "source": [
        "### 함수\n",
        "* dict_keys, dict_values, dict_items : 반복문(__iter__)에서 사용 가능"
      ],
      "metadata": {
        "id": "ZpysyZLigsQX"
      }
    },
    {
      "cell_type": "code",
      "source": [
        "print('a - ', a.keys())\n",
        "print('b - ', b.keys())\n",
        "print('c - ', c.keys())\n",
        "print('d - ', d.keys())"
      ],
      "metadata": {
        "colab": {
          "base_uri": "https://localhost:8080/"
        },
        "id": "tkoIxG9Ggo2P",
        "outputId": "cd9ac57b-249b-4ef9-a4e3-a12db9895b6a"
      },
      "execution_count": null,
      "outputs": [
        {
          "output_type": "stream",
          "name": "stdout",
          "text": [
            "a -  dict_keys(['name', 'phone', 'birth', 'adress', 'address', 'rank'])\n",
            "b -  dict_keys([0])\n",
            "c -  dict_keys(['arr'])\n",
            "d -  dict_keys(['Name', 'City', 'Age', 'Grade', 'Status'])\n"
          ]
        }
      ]
    },
    {
      "cell_type": "code",
      "source": [
        "print('a - ', list(a.keys()))       # 형변환"
      ],
      "metadata": {
        "colab": {
          "base_uri": "https://localhost:8080/"
        },
        "id": "HkasUlJQhBDO",
        "outputId": "1e11d8e0-b184-4b7b-b0b7-f28ab49dd8e0"
      },
      "execution_count": null,
      "outputs": [
        {
          "output_type": "stream",
          "name": "stdout",
          "text": [
            "a -  ['name', 'phone', 'birth', 'adress', 'address', 'rank']\n"
          ]
        }
      ]
    },
    {
      "cell_type": "code",
      "source": [
        "print('a - ', a.values())\n",
        "print('b - ', b.values())\n",
        "print('c - ', c.values())"
      ],
      "metadata": {
        "colab": {
          "base_uri": "https://localhost:8080/"
        },
        "id": "yZKByuo_hHB8",
        "outputId": "2d7c5b75-6c84-4757-d6b3-7f7f1e6074be"
      },
      "execution_count": null,
      "outputs": [
        {
          "output_type": "stream",
          "name": "stdout",
          "text": [
            "a -  dict_values(['Kim', '0103337777', '870514', 'Seoul', 'Seoul', [1, 2, 3]])\n",
            "b -  dict_values(['Hello Python'])\n",
            "c -  dict_values([[1, 2, 3, 4]])\n"
          ]
        }
      ]
    },
    {
      "cell_type": "code",
      "source": [
        "print('a - ', list(a.values()))       # 형변환"
      ],
      "metadata": {
        "colab": {
          "base_uri": "https://localhost:8080/"
        },
        "id": "QjZY4TTghNeY",
        "outputId": "54987113-ece8-4fa9-f10f-8dd30a1b5c1a"
      },
      "execution_count": null,
      "outputs": [
        {
          "output_type": "stream",
          "name": "stdout",
          "text": [
            "a -  ['Kim', '0103337777', '870514', 'Seoul', 'Seoul', [1, 2, 3]]\n"
          ]
        }
      ]
    },
    {
      "cell_type": "code",
      "source": [
        "# e 형태로 선언한 형태로 출력 / tuple 형태!\n",
        "print('a - ', a.items())\n",
        "print('b - ', b.items())\n",
        "print('c - ', c.items())"
      ],
      "metadata": {
        "colab": {
          "base_uri": "https://localhost:8080/"
        },
        "id": "lYfejE1GhP52",
        "outputId": "9f506942-3252-4954-b95e-f8abb9fb31e0"
      },
      "execution_count": null,
      "outputs": [
        {
          "output_type": "stream",
          "name": "stdout",
          "text": [
            "a -  dict_items([('name', 'Kim'), ('phone', '0103337777'), ('birth', '870514'), ('adress', 'Seoul'), ('address', 'Seoul'), ('rank', [1, 2, 3])])\n",
            "b -  dict_items([(0, 'Hello Python')])\n",
            "c -  dict_items([('arr', [1, 2, 3, 4])])\n"
          ]
        }
      ]
    },
    {
      "cell_type": "code",
      "source": [
        "# pop\n",
        "print('a - ', a.pop('adress'))\n",
        "print('a - ', a)"
      ],
      "metadata": {
        "colab": {
          "base_uri": "https://localhost:8080/"
        },
        "id": "RQqpkMNXhVAa",
        "outputId": "6df0208a-75c5-4930-a922-dfa7cccf83a6"
      },
      "execution_count": null,
      "outputs": [
        {
          "output_type": "stream",
          "name": "stdout",
          "text": [
            "a -  Seoul\n",
            "a -  {'name': 'Kim', 'phone': '0103337777', 'birth': '870514', 'address': 'Seoul', 'rank': [1, 2, 3]}\n"
          ]
        }
      ]
    },
    {
      "cell_type": "code",
      "source": [
        "# popitem : 임의로 빼기 (추첨기처럼 랜덤으로 뭔가 뽑을 때)\n",
        "print('f - ', f.popitem())\n",
        "print('f - ', c)"
      ],
      "metadata": {
        "colab": {
          "base_uri": "https://localhost:8080/"
        },
        "id": "u8NCB5W5hrWT",
        "outputId": "1bad1417-5fe7-4d22-def7-2e6883da56a5"
      },
      "execution_count": null,
      "outputs": [
        {
          "output_type": "stream",
          "name": "stdout",
          "text": [
            "f -  ('Status', True)\n",
            "f -  {'arr': [1, 2, 3, 4]}\n"
          ]
        }
      ]
    },
    {
      "cell_type": "code",
      "source": [
        "# key가 dict에 있는지\n",
        "print('a - ', 'birth' in a)\n",
        "print('a - ', 'birth2' in a)"
      ],
      "metadata": {
        "colab": {
          "base_uri": "https://localhost:8080/"
        },
        "id": "zc-Bwb56iNjv",
        "outputId": "5173d348-3a30-4930-a0be-33ebab981c2a"
      },
      "execution_count": null,
      "outputs": [
        {
          "output_type": "stream",
          "name": "stdout",
          "text": [
            "a -  True\n",
            "a -  False\n"
          ]
        }
      ]
    },
    {
      "cell_type": "markdown",
      "source": [
        "### 수정"
      ],
      "metadata": {
        "id": "DP8dvSakjE5R"
      }
    },
    {
      "cell_type": "code",
      "source": [
        "# 방법 1\n",
        "a['address'] = 'dj'\n",
        "print('a - ', a)\n",
        "\n",
        "# 방법 2\n",
        "a.update(birth='971013')\n",
        "\n",
        "# 방법 3\n",
        "temp = {'address' : 'Busan'}\n",
        "a.update(temp)"
      ],
      "metadata": {
        "colab": {
          "base_uri": "https://localhost:8080/"
        },
        "id": "SMMTk-eIiXPR",
        "outputId": "5d297f44-34cb-465c-a5fa-af51819856ae"
      },
      "execution_count": null,
      "outputs": [
        {
          "output_type": "stream",
          "name": "stdout",
          "text": [
            "a -  {'name': 'Kim', 'phone': '0103337777', 'birth': '870514', 'address': 'dj', 'rank': [1, 2, 3]}\n"
          ]
        }
      ]
    },
    {
      "cell_type": "markdown",
      "source": [
        "# 6) 집합"
      ],
      "metadata": {
        "id": "bl0fQlFGjXIC"
      }
    },
    {
      "cell_type": "markdown",
      "source": [
        "## 집합(6-1) : 알고나면 강력한 집합 자료형"
      ],
      "metadata": {
        "id": "LtJl0jAVjZ1_"
      }
    },
    {
      "cell_type": "markdown",
      "source": [
        "https://annajang.tistory.com/38\n",
        "![image.png](data:image/png;base64,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)"
      ],
      "metadata": {
        "id": "MFmFt5kjkU--"
      }
    },
    {
      "cell_type": "markdown",
      "source": [
        "집합(Set) 특징\n",
        "* 집합(Set) 자료형(순서X, 중복X)"
      ],
      "metadata": {
        "id": "aonaf0rOMmLX"
      }
    },
    {
      "cell_type": "code",
      "source": [
        "# 선언\n",
        "a = set()\n",
        "b = set([1, 2, 3, 4])\n",
        "c = set([1, 4, 5, 6])\n",
        "d = set([1, 2, 'Pen', 'Cap', 'Plate'])\n",
        "e = {'foo', 'bar', 'baz', 'foo'}          # 딕셔너리랑 혼동 조심\n",
        "f = {42, 'foo', (1, 2, 3), 3.14159}\n",
        "\n",
        "print('a - ', type(a), a)\n",
        "print('b - ', type(b), b)\n",
        "print('c - ', type(c), c)\n",
        "print('d - ', type(d), d)\n",
        "print('e - ', type(e), e)\n",
        "print('f - ', type(f), f)"
      ],
      "metadata": {
        "colab": {
          "base_uri": "https://localhost:8080/"
        },
        "id": "9hB3IIDojGZn",
        "outputId": "5d1084a3-1f17-4f0a-cfc2-f79879199a13"
      },
      "execution_count": null,
      "outputs": [
        {
          "output_type": "stream",
          "name": "stdout",
          "text": [
            "a -  <class 'set'> set()\n",
            "b -  <class 'set'> {1, 2, 3, 4}\n",
            "c -  <class 'set'> {1, 4, 5, 6}\n",
            "d -  <class 'set'> {1, 2, 'Pen', 'Cap', 'Plate'}\n",
            "e -  <class 'set'> {'foo', 'bar', 'baz'}\n",
            "f -  <class 'set'> {42, 3.14159, 'foo', (1, 2, 3)}\n"
          ]
        }
      ]
    },
    {
      "cell_type": "code",
      "source": [
        "# 튜플 변환 (set -> tuple)\n",
        "t = tuple(b)\n",
        "print('t - ', type(t), t)\n",
        "print('t - ', t[0])         # 튜플이라 슬라이싱 가능"
      ],
      "metadata": {
        "colab": {
          "base_uri": "https://localhost:8080/"
        },
        "id": "0i8kd89dM1te",
        "outputId": "5b164d82-a65d-48dc-f5b8-cb831ae6641c"
      },
      "execution_count": null,
      "outputs": [
        {
          "output_type": "stream",
          "name": "stdout",
          "text": [
            "t -  <class 'tuple'> (1, 2, 3, 4)\n",
            "t -  1\n"
          ]
        }
      ]
    },
    {
      "cell_type": "code",
      "source": [
        "# 리스트 변환 (set -> list)\n",
        "l1 = list(c)\n",
        "l2 = list(e)\n",
        "\n",
        "print('l - ', l1)\n",
        "print('l2 - ', l2)"
      ],
      "metadata": {
        "colab": {
          "base_uri": "https://localhost:8080/"
        },
        "id": "KU1xMdg1NyvB",
        "outputId": "a204c8f2-7a01-43be-c835-d36c4eb520e9"
      },
      "execution_count": null,
      "outputs": [
        {
          "output_type": "stream",
          "name": "stdout",
          "text": [
            "l -  [1, 4, 5, 6]\n",
            "l2 -  ['foo', 'bar', 'baz']\n"
          ]
        }
      ]
    },
    {
      "cell_type": "code",
      "source": [
        "# 길이\n",
        "print(len(a))\n",
        "print(len(b))\n",
        "print(len(c))\n",
        "print(len(d))\n",
        "print(len(e))\n",
        "print(len(f))"
      ],
      "metadata": {
        "colab": {
          "base_uri": "https://localhost:8080/"
        },
        "id": "9EbQnYW1N-FY",
        "outputId": "7be9fe31-6bce-454e-f165-76c6b0fd56c7"
      },
      "execution_count": null,
      "outputs": [
        {
          "output_type": "stream",
          "name": "stdout",
          "text": [
            "0\n",
            "4\n",
            "4\n",
            "5\n",
            "3\n",
            "4\n"
          ]
        }
      ]
    },
    {
      "cell_type": "code",
      "source": [
        "# 집합 자료형 활용\n",
        "s1 = set([1,2,3,4,5,6])\n",
        "s2 = set([4,5,6,7,8,9])\n",
        "\n",
        "# 교집합\n",
        "print('s1 & s2', s1 & s2)\n",
        "print('s1 & s2', s1.intersection(s2))\n",
        "\n",
        "# 합집합\n",
        "print('s1 | s2', s1 | s2)\n",
        "print('s1 | s2', s1.union(s2))\n",
        "\n",
        "# 차집합\n",
        "print('s1 - s2', s1 - s2)\n",
        "print('s1 - s2', s1.difference(s2))"
      ],
      "metadata": {
        "colab": {
          "base_uri": "https://localhost:8080/"
        },
        "id": "bM0S2fVYOOOS",
        "outputId": "fc2e744d-b9dd-4876-c322-b766909a2fd0"
      },
      "execution_count": null,
      "outputs": [
        {
          "output_type": "stream",
          "name": "stdout",
          "text": [
            "s1 & s2 {4, 5, 6}\n",
            "s1 & s2 {4, 5, 6}\n",
            "s1 | s2 {1, 2, 3, 4, 5, 6, 7, 8, 9}\n",
            "s1 | s2 {1, 2, 3, 4, 5, 6, 7, 8, 9}\n",
            "s1 - s2 {1, 2, 3}\n",
            "s1 - s2 {1, 2, 3}\n"
          ]
        }
      ]
    },
    {
      "cell_type": "code",
      "source": [
        "# 중복 원소 확인\n",
        "print('s1 & s2', s1.isdisjoint(s2))         # False가 나올때 중복 원소가 있다는 뜻\n",
        "\n",
        "# 부분 집합 확인\n",
        "print('subset : ', s1.issubset(s2))\n",
        "print('superset : ', s1.issuperset(s2))"
      ],
      "metadata": {
        "colab": {
          "base_uri": "https://localhost:8080/"
        },
        "id": "iaqsRcloO0SX",
        "outputId": "93ebc4f6-6232-4747-cf04-02c7ccc76535"
      },
      "execution_count": null,
      "outputs": [
        {
          "output_type": "stream",
          "name": "stdout",
          "text": [
            "s1 & s2 False\n",
            "subset :  False\n",
            "superset :  False\n"
          ]
        }
      ]
    },
    {
      "cell_type": "code",
      "source": [
        "# 추가 & 제거\n",
        "s1 = set([1, 2, 3, 4])\n",
        "\n",
        "s1.add(5)\n",
        "print('s1 - ', s1)"
      ],
      "metadata": {
        "colab": {
          "base_uri": "https://localhost:8080/"
        },
        "id": "62m-PNGSPoU6",
        "outputId": "b7bfbf4b-25dc-4979-baff-b512ae176a8e"
      },
      "execution_count": null,
      "outputs": [
        {
          "output_type": "stream",
          "name": "stdout",
          "text": [
            "s1 -  {1, 2, 3, 4, 5}\n"
          ]
        }
      ]
    },
    {
      "cell_type": "code",
      "source": [
        "s1.remove(5)                  # 없는 원소를 지우면 예외(error) 발생 함!\n",
        "print('s1 - ', s1)\n",
        "\n",
        "s1.discard(3)                 # 없는 원소를 지우면 예외(error) 발생 안함\n",
        "print('s1 - ', s1)"
      ],
      "metadata": {
        "colab": {
          "base_uri": "https://localhost:8080/",
          "height": 258
        },
        "id": "SFhMpIvbPx-l",
        "outputId": "e73b5ba1-8f24-4901-f50b-9d829c51f2f8"
      },
      "execution_count": null,
      "outputs": [
        {
          "output_type": "error",
          "ename": "KeyError",
          "evalue": "ignored",
          "traceback": [
            "\u001b[0;31m---------------------------------------------------------------------------\u001b[0m",
            "\u001b[0;31mKeyError\u001b[0m                                  Traceback (most recent call last)",
            "\u001b[0;32m<ipython-input-11-347daaa8bafe>\u001b[0m in \u001b[0;36m<cell line: 1>\u001b[0;34m()\u001b[0m\n\u001b[0;32m----> 1\u001b[0;31m \u001b[0ms1\u001b[0m\u001b[0;34m.\u001b[0m\u001b[0mremove\u001b[0m\u001b[0;34m(\u001b[0m\u001b[0;36m5\u001b[0m\u001b[0;34m)\u001b[0m                  \u001b[0;31m# 없는 원소를 지우면 예외(error) 발생 함!\u001b[0m\u001b[0;34m\u001b[0m\u001b[0;34m\u001b[0m\u001b[0m\n\u001b[0m\u001b[1;32m      2\u001b[0m \u001b[0mprint\u001b[0m\u001b[0;34m(\u001b[0m\u001b[0;34m's1 - '\u001b[0m\u001b[0;34m,\u001b[0m \u001b[0ms1\u001b[0m\u001b[0;34m)\u001b[0m\u001b[0;34m\u001b[0m\u001b[0;34m\u001b[0m\u001b[0m\n\u001b[1;32m      3\u001b[0m \u001b[0;34m\u001b[0m\u001b[0m\n\u001b[1;32m      4\u001b[0m \u001b[0ms1\u001b[0m\u001b[0;34m.\u001b[0m\u001b[0mdiscard\u001b[0m\u001b[0;34m(\u001b[0m\u001b[0;36m3\u001b[0m\u001b[0;34m)\u001b[0m                 \u001b[0;31m# 없는 원소를 지우면 예외(error) 발생 안함\u001b[0m\u001b[0;34m\u001b[0m\u001b[0;34m\u001b[0m\u001b[0m\n\u001b[1;32m      5\u001b[0m \u001b[0mprint\u001b[0m\u001b[0;34m(\u001b[0m\u001b[0;34m's1 - '\u001b[0m\u001b[0;34m,\u001b[0m \u001b[0ms1\u001b[0m\u001b[0;34m)\u001b[0m\u001b[0;34m\u001b[0m\u001b[0;34m\u001b[0m\u001b[0m\n",
            "\u001b[0;31mKeyError\u001b[0m: 5"
          ]
        }
      ]
    },
    {
      "cell_type": "code",
      "source": [
        "s1.clear()                  # 전부 삭제\n",
        "print(s1)"
      ],
      "metadata": {
        "colab": {
          "base_uri": "https://localhost:8080/"
        },
        "id": "LcQOKJYdP4lh",
        "outputId": "d8b4d970-cdde-470d-840f-17159df3076f"
      },
      "execution_count": null,
      "outputs": [
        {
          "output_type": "stream",
          "name": "stdout",
          "text": [
            "set()\n"
          ]
        }
      ]
    },
    {
      "cell_type": "code",
      "source": [],
      "metadata": {
        "id": "0TUkdbWqQb6G"
      },
      "execution_count": null,
      "outputs": []
    }
  ]
}